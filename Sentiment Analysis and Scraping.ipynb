{
 "cells": [
  {
   "cell_type": "code",
   "execution_count": 1,
   "id": "3f5095b4-5359-4c6a-94c8-38f12a286ed7",
   "metadata": {
    "collapsed": true,
    "jupyter": {
     "outputs_hidden": true
    },
    "tags": []
   },
   "outputs": [
    {
     "name": "stdout",
     "output_type": "stream",
     "text": [
      "Collecting transformers\n",
      "  Using cached transformers-4.33.3-py3-none-any.whl (7.6 MB)\n",
      "Collecting requests\n",
      "  Using cached requests-2.31.0-py3-none-any.whl (62 kB)\n",
      "Collecting safetensors>=0.3.1\n",
      "  Using cached safetensors-0.3.3-cp310-cp310-win_amd64.whl (266 kB)\n",
      "Collecting tokenizers!=0.11.3,<0.14,>=0.11.1\n",
      "  Using cached tokenizers-0.13.3-cp310-cp310-win_amd64.whl (3.5 MB)\n",
      "Collecting pyyaml>=5.1\n",
      "  Using cached PyYAML-6.0.1-cp310-cp310-win_amd64.whl (145 kB)\n",
      "Requirement already satisfied: packaging>=20.0 in c:\\users\\manav\\python_jupyter\\dl projects\\sentiment analysis\\sentimentanalysis\\lib\\site-packages (from transformers) (23.1)\n",
      "Collecting numpy>=1.17\n",
      "  Downloading numpy-1.26.0-cp310-cp310-win_amd64.whl (15.8 MB)\n",
      "     ---------------------------------------- 15.8/15.8 MB 1.5 MB/s eta 0:00:00\n",
      "Collecting regex!=2019.12.17\n",
      "  Using cached regex-2023.8.8-cp310-cp310-win_amd64.whl (268 kB)\n",
      "Collecting huggingface-hub<1.0,>=0.15.1\n",
      "  Using cached huggingface_hub-0.17.3-py3-none-any.whl (295 kB)\n",
      "Collecting filelock\n",
      "  Downloading filelock-3.12.4-py3-none-any.whl (11 kB)\n",
      "Collecting tqdm>=4.27\n",
      "  Using cached tqdm-4.66.1-py3-none-any.whl (78 kB)\n",
      "Collecting fsspec\n",
      "  Using cached fsspec-2023.9.2-py3-none-any.whl (173 kB)\n",
      "Collecting typing-extensions>=3.7.4.3\n",
      "  Downloading typing_extensions-4.8.0-py3-none-any.whl (31 kB)\n",
      "Requirement already satisfied: colorama in c:\\users\\manav\\python_jupyter\\dl projects\\sentiment analysis\\sentimentanalysis\\lib\\site-packages (from tqdm>=4.27->transformers) (0.4.6)\n",
      "Collecting certifi>=2017.4.17\n",
      "  Using cached certifi-2023.7.22-py3-none-any.whl (158 kB)\n",
      "Collecting urllib3<3,>=1.21.1\n",
      "  Downloading urllib3-2.0.5-py3-none-any.whl (123 kB)\n",
      "     -------------------------------------- 123.8/123.8 kB 2.4 MB/s eta 0:00:00\n",
      "Collecting charset-normalizer<4,>=2\n",
      "  Using cached charset_normalizer-3.2.0-cp310-cp310-win_amd64.whl (96 kB)\n",
      "Collecting idna<4,>=2.5\n",
      "  Using cached idna-3.4-py3-none-any.whl (61 kB)\n",
      "Installing collected packages: tokenizers, safetensors, urllib3, typing-extensions, tqdm, regex, pyyaml, numpy, idna, fsspec, filelock, charset-normalizer, certifi, requests, huggingface-hub, transformers\n",
      "Successfully installed certifi-2023.7.22 charset-normalizer-3.2.0 filelock-3.12.4 fsspec-2023.9.2 huggingface-hub-0.17.3 idna-3.4 numpy-1.26.0 pyyaml-6.0.1 regex-2023.8.8 requests-2.31.0 safetensors-0.3.3 tokenizers-0.13.3 tqdm-4.66.1 transformers-4.33.3 typing-extensions-4.8.0 urllib3-2.0.5\n"
     ]
    },
    {
     "name": "stderr",
     "output_type": "stream",
     "text": [
      "\n",
      "[notice] A new release of pip available: 22.3.1 -> 23.2.1\n",
      "[notice] To update, run: python.exe -m pip install --upgrade pip\n"
     ]
    }
   ],
   "source": [
    "!pip install transformers"
   ]
  },
  {
   "cell_type": "code",
   "execution_count": 1,
   "id": "074b7858-51d6-4565-9345-0e0798cfa5f4",
   "metadata": {
    "collapsed": true,
    "jupyter": {
     "outputs_hidden": true
    },
    "tags": []
   },
   "outputs": [
    {
     "name": "stderr",
     "output_type": "stream",
     "text": [
      "C:\\Users\\manav\\anaconda3\\lib\\site-packages\\tqdm\\auto.py:21: TqdmWarning: IProgress not found. Please update jupyter and ipywidgets. See https://ipywidgets.readthedocs.io/en/stable/user_install.html\n",
      "  from .autonotebook import tqdm as notebook_tqdm\n"
     ]
    }
   ],
   "source": [
    "from transformers import PegasusTokenizer, PegasusForConditionalGeneration\n",
    "from bs4 import BeautifulSoup\n",
    "import requests"
   ]
  },
  {
   "cell_type": "code",
   "execution_count": 3,
   "id": "eb4e93a9-f595-45f9-92cb-ce88c297ee3f",
   "metadata": {
    "collapsed": true,
    "jupyter": {
     "outputs_hidden": true
    },
    "tags": []
   },
   "outputs": [
    {
     "name": "stdout",
     "output_type": "stream",
     "text": [
      "Collecting sentencepiece\n",
      "  Using cached sentencepiece-0.1.99-cp310-cp310-win_amd64.whl (977 kB)\n",
      "Installing collected packages: sentencepiece\n",
      "Successfully installed sentencepiece-0.1.99\n"
     ]
    },
    {
     "name": "stderr",
     "output_type": "stream",
     "text": [
      "\n",
      "[notice] A new release of pip available: 22.3.1 -> 23.2.1\n",
      "[notice] To update, run: python.exe -m pip install --upgrade pip\n"
     ]
    }
   ],
   "source": [
    "!pip install sentencepiece"
   ]
  },
  {
   "cell_type": "code",
   "execution_count": null,
   "id": "4573738b-adfd-4a9c-8e43-c1d3164e0561",
   "metadata": {
    "tags": []
   },
   "outputs": [],
   "source": [
    "!pip install tensorflow"
   ]
  },
  {
   "cell_type": "code",
   "execution_count": 12,
   "id": "73ccf0d8-a33d-406f-a341-4db182e86d3c",
   "metadata": {
    "collapsed": true,
    "jupyter": {
     "outputs_hidden": true
    },
    "tags": []
   },
   "outputs": [
    {
     "name": "stdout",
     "output_type": "stream",
     "text": [
      "Requirement already satisfied: torch in c:\\users\\manav\\anaconda3\\lib\\site-packages (2.0.1)\n",
      "Requirement already satisfied: torchvision in c:\\users\\manav\\anaconda3\\lib\\site-packages (0.15.2)\n",
      "Requirement already satisfied: torchaudio in c:\\users\\manav\\anaconda3\\lib\\site-packages (2.0.2)\n",
      "Requirement already satisfied: filelock in c:\\users\\manav\\anaconda3\\lib\\site-packages (from torch) (3.9.0)\n",
      "Requirement already satisfied: networkx in c:\\users\\manav\\anaconda3\\lib\\site-packages (from torch) (3.1)\n",
      "Requirement already satisfied: typing-extensions in c:\\users\\manav\\anaconda3\\lib\\site-packages (from torch) (4.5.0)\n",
      "Requirement already satisfied: jinja2 in c:\\users\\manav\\anaconda3\\lib\\site-packages (from torch) (3.1.2)\n",
      "Requirement already satisfied: sympy in c:\\users\\manav\\anaconda3\\lib\\site-packages (from torch) (1.12)\n",
      "Requirement already satisfied: requests in c:\\users\\manav\\anaconda3\\lib\\site-packages (from torchvision) (2.31.0)\n",
      "Requirement already satisfied: pillow!=8.3.*,>=5.3.0 in c:\\users\\manav\\anaconda3\\lib\\site-packages (from torchvision) (9.4.0)\n",
      "Requirement already satisfied: numpy in c:\\users\\manav\\anaconda3\\lib\\site-packages (from torchvision) (1.24.3)\n",
      "Requirement already satisfied: MarkupSafe>=2.0 in c:\\users\\manav\\anaconda3\\lib\\site-packages (from jinja2->torch) (2.1.1)\n",
      "Requirement already satisfied: urllib3<3,>=1.21.1 in c:\\users\\manav\\anaconda3\\lib\\site-packages (from requests->torchvision) (1.26.16)\n",
      "Requirement already satisfied: certifi>=2017.4.17 in c:\\users\\manav\\anaconda3\\lib\\site-packages (from requests->torchvision) (2023.7.22)\n",
      "Requirement already satisfied: idna<4,>=2.5 in c:\\users\\manav\\anaconda3\\lib\\site-packages (from requests->torchvision) (3.4)\n",
      "Requirement already satisfied: charset-normalizer<4,>=2 in c:\\users\\manav\\anaconda3\\lib\\site-packages (from requests->torchvision) (2.0.4)\n",
      "Requirement already satisfied: mpmath>=0.19 in c:\\users\\manav\\anaconda3\\lib\\site-packages (from sympy->torch) (1.3.0)\n"
     ]
    }
   ],
   "source": [
    "!pip3 install torch torchvision torchaudio"
   ]
  },
  {
   "cell_type": "code",
   "execution_count": 14,
   "id": "60ce5196-37c6-4840-b380-f24f831432a7",
   "metadata": {
    "tags": []
   },
   "outputs": [],
   "source": [
    "import torch"
   ]
  },
  {
   "cell_type": "markdown",
   "id": "d8e64e43-634e-4a7e-8a20-34b0edc5f91f",
   "metadata": {},
   "source": [
    "# 1.Setup Summarising Model "
   ]
  },
  {
   "cell_type": "code",
   "execution_count": 5,
   "id": "2e9ec821-a5cb-46a2-b0ed-d6da8678655c",
   "metadata": {
    "collapsed": true,
    "jupyter": {
     "outputs_hidden": true
    },
    "tags": []
   },
   "outputs": [
    {
     "name": "stderr",
     "output_type": "stream",
     "text": [
      "\n",
      "\n",
      "\n",
      "Downloading model.safetensors:   0%|                                                       | 0.00/2.28G [00:00<?, ?B/s]\u001b[A\u001b[A\u001b[A\n",
      "\n",
      "\n",
      "Downloading model.safetensors:   0%|▏                                             | 10.5M/2.28G [00:02<07:25, 5.08MB/s]\u001b[A\u001b[A\u001b[A\n",
      "\n",
      "\n",
      "Downloading model.safetensors:   1%|▍                                             | 21.0M/2.28G [00:03<05:12, 7.21MB/s]\u001b[A\u001b[A\u001b[A\n",
      "\n",
      "\n",
      "Downloading model.safetensors:   1%|▋                                             | 31.5M/2.28G [00:03<04:09, 8.98MB/s]\u001b[A\u001b[A\u001b[A\n",
      "\n",
      "\n",
      "Downloading model.safetensors:   2%|▊                                             | 41.9M/2.28G [00:05<04:13, 8.82MB/s]\u001b[A\u001b[A\u001b[A\n",
      "\n",
      "\n",
      "Downloading model.safetensors:   2%|█                                             | 52.4M/2.28G [00:06<04:02, 9.16MB/s]\u001b[A\u001b[A\u001b[A\n",
      "\n",
      "\n",
      "Downloading model.safetensors:   3%|█▎                                            | 62.9M/2.28G [00:07<03:58, 9.29MB/s]\u001b[A\u001b[A\u001b[A\n",
      "\n",
      "\n",
      "Downloading model.safetensors:   3%|█▍                                            | 73.4M/2.28G [00:08<03:52, 9.46MB/s]\u001b[A\u001b[A\u001b[A\n",
      "\n",
      "\n",
      "Downloading model.safetensors:   4%|█▋                                            | 83.9M/2.28G [00:09<04:23, 8.30MB/s]\u001b[A\u001b[A\u001b[A\n",
      "\n",
      "\n",
      "Downloading model.safetensors:   4%|█▉                                            | 94.4M/2.28G [00:11<04:39, 7.80MB/s]\u001b[A\u001b[A\u001b[A\n",
      "\n",
      "\n",
      "Downloading model.safetensors:   5%|██▏                                            | 105M/2.28G [00:13<04:51, 7.45MB/s]\u001b[A\u001b[A\u001b[A\n",
      "\n",
      "\n",
      "Downloading model.safetensors:   5%|██▍                                            | 115M/2.28G [00:14<04:30, 8.00MB/s]\u001b[A\u001b[A\u001b[A\n",
      "\n",
      "\n",
      "Downloading model.safetensors:   6%|██▌                                            | 126M/2.28G [00:14<03:52, 9.24MB/s]\u001b[A\u001b[A\u001b[A\n",
      "\n",
      "\n",
      "Downloading model.safetensors:   6%|██▊                                            | 136M/2.28G [00:15<03:16, 10.9MB/s]\u001b[A\u001b[A\u001b[A\n",
      "\n",
      "\n",
      "Downloading model.safetensors:   6%|███                                            | 147M/2.28G [00:16<03:01, 11.7MB/s]\u001b[A\u001b[A\u001b[A\n",
      "\n",
      "\n",
      "Downloading model.safetensors:   7%|███▏                                           | 157M/2.28G [00:16<02:49, 12.5MB/s]\u001b[A\u001b[A\u001b[A\n",
      "\n",
      "\n",
      "Downloading model.safetensors:   7%|███▍                                           | 168M/2.28G [00:17<02:58, 11.8MB/s]\u001b[A\u001b[A\u001b[A\n",
      "\n",
      "\n",
      "Downloading model.safetensors:   8%|███▋                                           | 178M/2.28G [00:19<03:12, 10.9MB/s]\u001b[A\u001b[A\u001b[A\n",
      "\n",
      "\n",
      "Downloading model.safetensors:   8%|███▉                                           | 189M/2.28G [00:19<03:03, 11.4MB/s]\u001b[A\u001b[A\u001b[A\n",
      "\n",
      "\n",
      "Downloading model.safetensors:   9%|████                                           | 199M/2.28G [00:20<03:15, 10.6MB/s]\u001b[A\u001b[A\u001b[A\n",
      "\n",
      "\n",
      "Downloading model.safetensors:   9%|████▎                                          | 210M/2.28G [00:21<02:55, 11.7MB/s]\u001b[A\u001b[A\u001b[A\n",
      "\n",
      "\n",
      "Downloading model.safetensors:  10%|████▌                                          | 220M/2.28G [00:22<02:40, 12.8MB/s]\u001b[A\u001b[A\u001b[A\n",
      "\n",
      "\n",
      "Downloading model.safetensors:  10%|████▊                                          | 231M/2.28G [00:22<02:30, 13.6MB/s]\u001b[A\u001b[A\u001b[A\n",
      "\n",
      "\n",
      "Downloading model.safetensors:  11%|████▉                                          | 241M/2.28G [00:23<02:40, 12.7MB/s]\u001b[A\u001b[A\u001b[A\n",
      "\n",
      "\n",
      "Downloading model.safetensors:  11%|█████▏                                         | 252M/2.28G [00:25<02:55, 11.6MB/s]\u001b[A\u001b[A\u001b[A\n",
      "\n",
      "\n",
      "Downloading model.safetensors:  12%|█████▍                                         | 262M/2.28G [00:26<03:01, 11.1MB/s]\u001b[A\u001b[A\u001b[A\n",
      "\n",
      "\n",
      "Downloading model.safetensors:  12%|█████▋                                         | 273M/2.28G [00:26<02:54, 11.4MB/s]\u001b[A\u001b[A\u001b[A\n",
      "\n",
      "\n",
      "Downloading model.safetensors:  12%|█████▊                                         | 283M/2.28G [00:27<02:34, 12.9MB/s]\u001b[A\u001b[A\u001b[A\n",
      "\n",
      "\n",
      "Downloading model.safetensors:  13%|██████                                         | 294M/2.28G [00:28<02:43, 12.1MB/s]\u001b[A\u001b[A\u001b[A\n",
      "\n",
      "\n",
      "Downloading model.safetensors:  13%|██████▎                                        | 304M/2.28G [00:29<02:54, 11.3MB/s]\u001b[A\u001b[A\u001b[A\n",
      "\n",
      "\n",
      "Downloading model.safetensors:  14%|██████▍                                        | 315M/2.28G [00:30<02:49, 11.6MB/s]\u001b[A\u001b[A\u001b[A\n",
      "\n",
      "\n",
      "Downloading model.safetensors:  14%|██████▋                                        | 325M/2.28G [00:31<02:43, 12.0MB/s]\u001b[A\u001b[A\u001b[A\n",
      "\n",
      "\n",
      "Downloading model.safetensors:  15%|██████▉                                        | 336M/2.28G [00:32<02:46, 11.6MB/s]\u001b[A\u001b[A\u001b[A\n",
      "\n",
      "\n",
      "Downloading model.safetensors:  15%|███████▏                                       | 346M/2.28G [00:32<02:39, 12.1MB/s]\u001b[A\u001b[A\u001b[A\n",
      "\n",
      "\n",
      "Downloading model.safetensors:  16%|███████▎                                       | 357M/2.28G [00:33<02:45, 11.6MB/s]\u001b[A\u001b[A\u001b[A\n",
      "\n",
      "\n",
      "Downloading model.safetensors:  16%|███████▌                                       | 367M/2.28G [00:34<02:50, 11.2MB/s]\u001b[A\u001b[A\u001b[A\n",
      "\n",
      "\n",
      "Downloading model.safetensors:  17%|███████▊                                       | 377M/2.28G [00:35<02:36, 12.2MB/s]\u001b[A\u001b[A\u001b[A\n",
      "\n",
      "\n",
      "Downloading model.safetensors:  17%|████████                                       | 388M/2.28G [00:36<02:30, 12.5MB/s]\u001b[A\u001b[A\u001b[A\n",
      "\n",
      "\n",
      "Downloading model.safetensors:  18%|████████▏                                      | 398M/2.28G [00:36<02:11, 14.3MB/s]\u001b[A\u001b[A\u001b[A\n",
      "\n",
      "\n",
      "Downloading model.safetensors:  18%|████████▍                                      | 409M/2.28G [00:37<02:12, 14.0MB/s]\u001b[A\u001b[A\u001b[A\n",
      "\n",
      "\n",
      "Downloading model.safetensors:  18%|████████▋                                      | 419M/2.28G [00:38<02:16, 13.6MB/s]\u001b[A\u001b[A\u001b[A\n",
      "\n",
      "\n",
      "Downloading model.safetensors:  19%|████████▉                                      | 430M/2.28G [00:39<02:06, 14.6MB/s]\u001b[A\u001b[A\u001b[A\n",
      "\n",
      "\n",
      "Downloading model.safetensors:  19%|█████████                                      | 440M/2.28G [00:40<02:26, 12.5MB/s]\u001b[A\u001b[A\u001b[A\n",
      "\n",
      "\n",
      "Downloading model.safetensors:  20%|█████████▎                                     | 451M/2.28G [00:40<02:22, 12.8MB/s]\u001b[A\u001b[A\u001b[A\n",
      "\n",
      "\n",
      "Downloading model.safetensors:  20%|█████████▌                                     | 461M/2.28G [00:41<02:23, 12.7MB/s]\u001b[A\u001b[A\u001b[A\n",
      "\n",
      "\n",
      "Downloading model.safetensors:  21%|█████████▋                                     | 472M/2.28G [00:42<02:15, 13.3MB/s]\u001b[A\u001b[A\u001b[A\n",
      "\n",
      "\n",
      "Downloading model.safetensors:  21%|█████████▉                                     | 482M/2.28G [00:43<02:09, 13.8MB/s]\u001b[A\u001b[A\u001b[A\n",
      "\n",
      "\n",
      "Downloading model.safetensors:  22%|██████████▏                                    | 493M/2.28G [00:44<02:10, 13.6MB/s]\u001b[A\u001b[A\u001b[A\n",
      "\n",
      "\n",
      "Downloading model.safetensors:  22%|██████████▍                                    | 503M/2.28G [00:44<02:18, 12.8MB/s]\u001b[A\u001b[A\u001b[A\n",
      "\n",
      "\n",
      "Downloading model.safetensors:  23%|██████████▌                                    | 514M/2.28G [00:45<02:25, 12.1MB/s]\u001b[A\u001b[A\u001b[A\n",
      "\n",
      "\n",
      "Downloading model.safetensors:  23%|██████████▊                                    | 524M/2.28G [00:46<02:33, 11.4MB/s]\u001b[A\u001b[A\u001b[A\n",
      "\n",
      "\n",
      "Downloading model.safetensors:  24%|███████████                                    | 535M/2.28G [00:48<02:46, 10.4MB/s]\u001b[A\u001b[A\u001b[A\n",
      "\n",
      "\n",
      "Downloading model.safetensors:  24%|███████████▎                                   | 545M/2.28G [00:49<02:59, 9.63MB/s]\u001b[A\u001b[A\u001b[A\n",
      "\n",
      "\n",
      "Downloading model.safetensors:  24%|███████████▍                                   | 556M/2.28G [00:50<03:05, 9.29MB/s]\u001b[A\u001b[A\u001b[A\n",
      "\n",
      "\n",
      "Downloading model.safetensors:  25%|███████████▋                                   | 566M/2.28G [00:51<02:52, 9.92MB/s]\u001b[A\u001b[A\u001b[A\n",
      "\n",
      "\n",
      "Downloading model.safetensors:  25%|███████████▉                                   | 577M/2.28G [00:52<02:48, 10.1MB/s]\u001b[A\u001b[A\u001b[A\n",
      "\n",
      "\n",
      "Downloading model.safetensors:  26%|████████████▏                                  | 587M/2.28G [00:53<02:56, 9.57MB/s]\u001b[A\u001b[A\u001b[A\n",
      "\n",
      "\n",
      "Downloading model.safetensors:  26%|████████████▎                                  | 598M/2.28G [00:54<02:38, 10.6MB/s]\u001b[A\u001b[A\u001b[A\n",
      "\n",
      "\n",
      "Downloading model.safetensors:  27%|████████████▌                                  | 608M/2.28G [00:55<02:26, 11.4MB/s]\u001b[A\u001b[A\u001b[A\n",
      "\n",
      "\n",
      "Downloading model.safetensors:  27%|████████████▊                                  | 619M/2.28G [00:56<02:24, 11.5MB/s]\u001b[A\u001b[A\u001b[A\n",
      "\n",
      "\n",
      "Downloading model.safetensors:  28%|████████████▉                                  | 629M/2.28G [00:57<02:21, 11.6MB/s]\u001b[A\u001b[A\u001b[A\n",
      "\n",
      "\n",
      "Downloading model.safetensors:  28%|█████████████▏                                 | 640M/2.28G [00:58<02:22, 11.5MB/s]\u001b[A\u001b[A\u001b[A\n",
      "\n",
      "\n",
      "Downloading model.safetensors:  29%|█████████████▍                                 | 650M/2.28G [00:58<02:13, 12.2MB/s]\u001b[A\u001b[A\u001b[A\n",
      "\n",
      "\n",
      "Downloading model.safetensors:  29%|█████████████▋                                 | 661M/2.28G [00:59<02:06, 12.8MB/s]\u001b[A\u001b[A\u001b[A\n",
      "\n",
      "\n",
      "Downloading model.safetensors:  29%|█████████████▊                                 | 671M/2.28G [01:00<02:09, 12.4MB/s]\u001b[A\u001b[A\u001b[A\n",
      "\n",
      "\n",
      "Downloading model.safetensors:  30%|██████████████                                 | 682M/2.28G [01:01<02:03, 12.9MB/s]\u001b[A\u001b[A\u001b[A\n",
      "\n",
      "\n",
      "Downloading model.safetensors:  30%|██████████████▎                                | 692M/2.28G [01:02<02:05, 12.6MB/s]\u001b[A\u001b[A\u001b[A\n",
      "\n",
      "\n",
      "Downloading model.safetensors:  31%|██████████████▌                                | 703M/2.28G [01:03<02:13, 11.8MB/s]\u001b[A\u001b[A\u001b[A\n",
      "\n",
      "\n",
      "Downloading model.safetensors:  31%|██████████████▋                                | 713M/2.28G [01:03<02:11, 11.9MB/s]\u001b[A\u001b[A\u001b[A\n",
      "\n",
      "\n",
      "Downloading model.safetensors:  32%|██████████████▉                                | 724M/2.28G [01:04<02:07, 12.1MB/s]\u001b[A\u001b[A\u001b[A\n",
      "\n",
      "\n",
      "Downloading model.safetensors:  32%|███████████████▏                               | 734M/2.28G [01:05<01:59, 12.9MB/s]\u001b[A\u001b[A\u001b[A\n",
      "\n",
      "\n",
      "Downloading model.safetensors:  33%|███████████████▍                               | 744M/2.28G [01:06<02:01, 12.6MB/s]\u001b[A\u001b[A\u001b[A\n",
      "\n",
      "\n",
      "Downloading model.safetensors:  33%|███████████████▌                               | 755M/2.28G [01:07<02:03, 12.3MB/s]\u001b[A\u001b[A\u001b[A\n",
      "\n",
      "\n",
      "Downloading model.safetensors:  34%|███████████████▊                               | 765M/2.28G [01:08<02:04, 12.1MB/s]\u001b[A\u001b[A\u001b[A\n",
      "\n",
      "\n",
      "Downloading model.safetensors:  34%|████████████████                               | 776M/2.28G [01:08<02:05, 11.9MB/s]\u001b[A\u001b[A\u001b[A\n",
      "\n",
      "\n",
      "Downloading model.safetensors:  35%|████████████████▏                              | 786M/2.28G [01:09<01:58, 12.6MB/s]\u001b[A\u001b[A\u001b[A\n",
      "\n",
      "\n",
      "Downloading model.safetensors:  35%|████████████████▍                              | 797M/2.28G [01:10<01:52, 13.1MB/s]\u001b[A\u001b[A\u001b[A\n",
      "\n",
      "\n",
      "Downloading model.safetensors:  35%|████████████████▋                              | 807M/2.28G [01:11<01:48, 13.5MB/s]\u001b[A\u001b[A\u001b[A\n",
      "\n",
      "\n",
      "Downloading model.safetensors:  36%|████████████████▉                              | 818M/2.28G [01:11<01:42, 14.3MB/s]\u001b[A\u001b[A\u001b[A\n",
      "\n",
      "\n",
      "Downloading model.safetensors:  36%|█████████████████                              | 828M/2.28G [01:12<01:29, 16.1MB/s]\u001b[A\u001b[A\u001b[A\n",
      "\n",
      "\n",
      "Downloading model.safetensors:  37%|█████████████████▎                             | 839M/2.28G [01:12<01:30, 15.9MB/s]\u001b[A\u001b[A\u001b[A\n",
      "\n",
      "\n",
      "Downloading model.safetensors:  37%|█████████████████▌                             | 849M/2.28G [01:13<01:44, 13.6MB/s]\u001b[A\u001b[A\u001b[A\n",
      "\n",
      "\n",
      "Downloading model.safetensors:  38%|█████████████████▊                             | 860M/2.28G [01:15<02:00, 11.8MB/s]\u001b[A\u001b[A\u001b[A\n",
      "\n",
      "\n",
      "Downloading model.safetensors:  38%|█████████████████▉                             | 870M/2.28G [01:15<01:55, 12.2MB/s]\u001b[A\u001b[A\u001b[A\n",
      "\n",
      "\n",
      "Downloading model.safetensors:  39%|██████████████████▏                            | 881M/2.28G [01:16<02:00, 11.5MB/s]\u001b[A\u001b[A\u001b[A\n",
      "\n",
      "\n",
      "Downloading model.safetensors:  39%|██████████████████▍                            | 891M/2.28G [01:17<02:00, 11.5MB/s]\u001b[A\u001b[A\u001b[A\n",
      "\n",
      "\n",
      "Downloading model.safetensors:  40%|██████████████████▋                            | 902M/2.28G [01:18<01:54, 12.0MB/s]\u001b[A\u001b[A\u001b[A\n",
      "\n",
      "\n",
      "Downloading model.safetensors:  40%|██████████████████▊                            | 912M/2.28G [01:19<02:06, 10.8MB/s]\u001b[A\u001b[A\u001b[A\n",
      "\n",
      "\n",
      "Downloading model.safetensors:  41%|███████████████████                            | 923M/2.28G [01:20<02:05, 10.8MB/s]\u001b[A\u001b[A\u001b[A\n",
      "\n",
      "\n",
      "Downloading model.safetensors:  41%|███████████████████▎                           | 933M/2.28G [01:21<02:09, 10.4MB/s]\u001b[A\u001b[A\u001b[A\n",
      "\n",
      "\n",
      "Downloading model.safetensors:  41%|███████████████████▍                           | 944M/2.28G [01:22<02:05, 10.6MB/s]\u001b[A\u001b[A\u001b[A\n",
      "\n",
      "\n",
      "Downloading model.safetensors:  42%|███████████████████▋                           | 954M/2.28G [01:23<01:57, 11.2MB/s]\u001b[A\u001b[A\u001b[A\n",
      "\n",
      "\n",
      "Downloading model.safetensors:  42%|███████████████████▉                           | 965M/2.28G [01:24<01:50, 11.9MB/s]\u001b[A\u001b[A\u001b[A\n",
      "\n",
      "\n",
      "Downloading model.safetensors:  43%|████████████████████▏                          | 975M/2.28G [01:25<01:50, 11.8MB/s]\u001b[A\u001b[A\u001b[A\n",
      "\n",
      "\n",
      "Downloading model.safetensors:  43%|████████████████████▎                          | 986M/2.28G [01:26<02:06, 10.2MB/s]\u001b[A\u001b[A\u001b[A\n",
      "\n",
      "\n",
      "Downloading model.safetensors:  44%|████████████████████▌                          | 996M/2.28G [01:28<02:25, 8.82MB/s]\u001b[A\u001b[A\u001b[A\n",
      "\n",
      "\n",
      "Downloading model.safetensors:  44%|████████████████████▎                         | 1.01G/2.28G [01:29<02:40, 7.89MB/s]\u001b[A\u001b[A\u001b[A\n",
      "\n",
      "\n",
      "Downloading model.safetensors:  45%|████████████████████▌                         | 1.02G/2.28G [01:31<02:51, 7.36MB/s]\u001b[A\u001b[A\u001b[A\n",
      "\n",
      "\n",
      "Downloading model.safetensors:  45%|████████████████████▊                         | 1.03G/2.28G [01:33<02:54, 7.14MB/s]\u001b[A\u001b[A\u001b[A\n",
      "\n",
      "\n",
      "Downloading model.safetensors:  46%|████████████████████▉                         | 1.04G/2.28G [01:34<02:48, 7.36MB/s]\u001b[A\u001b[A\u001b[A\n",
      "\n",
      "\n",
      "Downloading model.safetensors:  46%|█████████████████████▏                        | 1.05G/2.28G [01:36<02:52, 7.12MB/s]\u001b[A\u001b[A\u001b[A\n",
      "\n",
      "\n",
      "Downloading model.safetensors:  47%|█████████████████████▍                        | 1.06G/2.28G [01:37<02:47, 7.27MB/s]\u001b[A\u001b[A\u001b[A\n",
      "\n",
      "\n",
      "Downloading model.safetensors:  47%|█████████████████████▌                        | 1.07G/2.28G [01:38<02:32, 7.88MB/s]\u001b[A\u001b[A\u001b[A\n",
      "\n",
      "\n",
      "Downloading model.safetensors:  47%|█████████████████████▊                        | 1.08G/2.28G [01:39<02:20, 8.48MB/s]\u001b[A\u001b[A\u001b[A\n",
      "\n",
      "\n",
      "Downloading model.safetensors:  48%|██████████████████████                        | 1.09G/2.28G [01:40<02:21, 8.35MB/s]\u001b[A\u001b[A\u001b[A\n",
      "\n",
      "\n",
      "Downloading model.safetensors:  48%|██████████████████████▎                       | 1.10G/2.28G [01:41<02:12, 8.86MB/s]\u001b[A\u001b[A\u001b[A\n",
      "\n",
      "\n",
      "Downloading model.safetensors:  49%|██████████████████████▍                       | 1.11G/2.28G [01:43<02:13, 8.74MB/s]\u001b[A\u001b[A\u001b[A\n",
      "\n",
      "\n",
      "Downloading model.safetensors:  49%|██████████████████████▋                       | 1.12G/2.28G [01:44<02:09, 8.94MB/s]\u001b[A\u001b[A\u001b[A\n",
      "\n",
      "\n",
      "Downloading model.safetensors:  50%|██████████████████████▉                       | 1.13G/2.28G [01:45<02:22, 8.01MB/s]\u001b[A\u001b[A\u001b[A\n",
      "\n",
      "\n",
      "Downloading model.safetensors:  50%|███████████████████████                       | 1.14G/2.28G [01:47<02:23, 7.89MB/s]\u001b[A\u001b[A\u001b[A\n",
      "\n",
      "\n",
      "Downloading model.safetensors:  51%|███████████████████████▎                      | 1.15G/2.28G [01:48<02:19, 8.05MB/s]\u001b[A\u001b[A\u001b[A\n",
      "\n",
      "\n",
      "Downloading model.safetensors:  51%|███████████████████████▌                      | 1.16G/2.28G [01:49<02:09, 8.55MB/s]\u001b[A\u001b[A\u001b[A\n",
      "\n",
      "\n",
      "Downloading model.safetensors:  52%|███████████████████████▋                      | 1.17G/2.28G [01:50<01:55, 9.56MB/s]\u001b[A\u001b[A\u001b[A\n",
      "\n",
      "\n",
      "Downloading model.safetensors:  52%|███████████████████████▉                      | 1.18G/2.28G [01:51<01:54, 9.53MB/s]\u001b[A\u001b[A\u001b[A\n",
      "\n",
      "\n",
      "Downloading model.safetensors:  53%|████████████████████████▏                     | 1.20G/2.28G [01:52<01:46, 10.1MB/s]\u001b[A\u001b[A\u001b[A\n",
      "\n",
      "\n",
      "Downloading model.safetensors:  53%|████████████████████████▍                     | 1.21G/2.28G [01:53<01:42, 10.4MB/s]\u001b[A\u001b[A\u001b[A\n",
      "\n",
      "\n",
      "Downloading model.safetensors:  53%|████████████████████████▌                     | 1.22G/2.28G [01:54<01:39, 10.6MB/s]\u001b[A\u001b[A\u001b[A\n",
      "\n",
      "\n",
      "Downloading model.safetensors:  54%|████████████████████████▊                     | 1.23G/2.28G [01:54<01:34, 11.1MB/s]\u001b[A\u001b[A\u001b[A\n",
      "\n",
      "\n",
      "Downloading model.safetensors:  54%|█████████████████████████                     | 1.24G/2.28G [01:55<01:35, 10.9MB/s]\u001b[A\u001b[A\u001b[A\n",
      "\n",
      "\n",
      "Downloading model.safetensors:  55%|█████████████████████████▏                    | 1.25G/2.28G [01:56<01:29, 11.5MB/s]\u001b[A\u001b[A\u001b[A\n",
      "\n",
      "\n",
      "Downloading model.safetensors:  55%|█████████████████████████▍                    | 1.26G/2.28G [01:57<01:37, 10.5MB/s]\u001b[A\u001b[A\u001b[A\n",
      "\n",
      "\n",
      "Downloading model.safetensors:  56%|█████████████████████████▋                    | 1.27G/2.28G [01:59<02:02, 8.22MB/s]\u001b[A\u001b[A\u001b[A\n",
      "\n",
      "\n",
      "Downloading model.safetensors:  56%|█████████████████████████▊                    | 1.28G/2.28G [02:00<01:56, 8.54MB/s]\u001b[A\u001b[A\u001b[A\n",
      "\n",
      "\n",
      "Downloading model.safetensors:  57%|██████████████████████████                    | 1.29G/2.28G [02:02<01:54, 8.61MB/s]\u001b[A\u001b[A\u001b[A\n",
      "\n",
      "\n",
      "Downloading model.safetensors:  57%|██████████████████████████▎                   | 1.30G/2.28G [02:03<01:50, 8.85MB/s]\u001b[A\u001b[A\u001b[A\n",
      "\n",
      "\n",
      "Downloading model.safetensors:  58%|██████████████████████████▍                   | 1.31G/2.28G [02:04<01:51, 8.69MB/s]\u001b[A\u001b[A\u001b[A\n",
      "\n",
      "\n",
      "Downloading model.safetensors:  58%|██████████████████████████▋                   | 1.32G/2.28G [02:05<01:53, 8.42MB/s]\u001b[A\u001b[A\u001b[A\n",
      "\n",
      "\n",
      "Downloading model.safetensors:  59%|██████████████████████████▉                   | 1.33G/2.28G [02:06<01:43, 9.10MB/s]\u001b[A\u001b[A\u001b[A\n",
      "\n",
      "\n",
      "Downloading model.safetensors:  59%|███████████████████████████▏                  | 1.34G/2.28G [02:08<01:48, 8.60MB/s]\u001b[A\u001b[A\u001b[A\n",
      "\n",
      "\n",
      "Downloading model.safetensors:  59%|███████████████████████████▎                  | 1.35G/2.28G [02:09<01:53, 8.13MB/s]\u001b[A\u001b[A\u001b[A\n",
      "\n",
      "\n",
      "Downloading model.safetensors:  60%|███████████████████████████▌                  | 1.36G/2.28G [02:10<01:50, 8.27MB/s]\u001b[A\u001b[A\u001b[A\n",
      "\n",
      "\n",
      "Downloading model.safetensors:  60%|███████████████████████████▊                  | 1.37G/2.28G [02:11<01:42, 8.79MB/s]\u001b[A\u001b[A\u001b[A\n",
      "\n",
      "\n",
      "Downloading model.safetensors:  61%|███████████████████████████▉                  | 1.38G/2.28G [02:13<01:39, 8.98MB/s]\u001b[A\u001b[A\u001b[A\n",
      "\n",
      "\n",
      "Downloading model.safetensors:  61%|████████████████████████████▏                 | 1.39G/2.28G [02:13<01:27, 10.1MB/s]\u001b[A\u001b[A\u001b[A\n",
      "\n",
      "\n",
      "Downloading model.safetensors:  62%|████████████████████████████▍                 | 1.41G/2.28G [02:14<01:23, 10.4MB/s]\u001b[A\u001b[A\u001b[A\n",
      "\n",
      "\n",
      "Downloading model.safetensors:  62%|████████████████████████████▌                 | 1.42G/2.28G [02:15<01:19, 10.8MB/s]\u001b[A\u001b[A\u001b[A\n",
      "\n",
      "\n",
      "Downloading model.safetensors:  63%|████████████████████████████▊                 | 1.43G/2.28G [02:16<01:16, 11.2MB/s]\u001b[A\u001b[A\u001b[A\n",
      "\n",
      "\n",
      "Downloading model.safetensors:  63%|█████████████████████████████                 | 1.44G/2.28G [02:17<01:16, 10.9MB/s]\u001b[A\u001b[A\u001b[A\n",
      "\n",
      "\n",
      "Downloading model.safetensors:  64%|█████████████████████████████▎                | 1.45G/2.28G [02:18<01:23, 9.91MB/s]\u001b[A\u001b[A\u001b[A\n",
      "\n",
      "\n",
      "Downloading model.safetensors:  64%|█████████████████████████████▍                | 1.46G/2.28G [02:20<01:38, 8.30MB/s]\u001b[A\u001b[A\u001b[A\n",
      "\n",
      "\n",
      "Downloading model.safetensors:  65%|█████████████████████████████▋                | 1.47G/2.28G [02:21<01:40, 8.06MB/s]\u001b[A\u001b[A\u001b[A\n",
      "\n",
      "\n",
      "Downloading model.safetensors:  65%|█████████████████████████████▉                | 1.48G/2.28G [02:23<01:36, 8.29MB/s]\u001b[A\u001b[A\u001b[A\n",
      "\n",
      "\n",
      "Downloading model.safetensors:  65%|██████████████████████████████                | 1.49G/2.28G [02:24<01:33, 8.41MB/s]\u001b[A\u001b[A\u001b[A\n",
      "\n",
      "\n",
      "Downloading model.safetensors:  66%|██████████████████████████████▎               | 1.50G/2.28G [02:25<01:26, 8.92MB/s]\u001b[A\u001b[A\u001b[A\n",
      "\n",
      "\n",
      "Downloading model.safetensors:  66%|██████████████████████████████▌               | 1.51G/2.28G [02:26<01:31, 8.33MB/s]\u001b[A\u001b[A\u001b[A\n",
      "\n",
      "\n",
      "Downloading model.safetensors:  67%|██████████████████████████████▋               | 1.52G/2.28G [02:27<01:24, 8.95MB/s]\u001b[A\u001b[A\u001b[A\n",
      "\n",
      "\n",
      "Downloading model.safetensors:  67%|██████████████████████████████▉               | 1.53G/2.28G [02:28<01:15, 9.91MB/s]\u001b[A\u001b[A\u001b[A\n",
      "\n",
      "\n",
      "Downloading model.safetensors:  68%|███████████████████████████████▏              | 1.54G/2.28G [02:29<01:12, 10.1MB/s]\u001b[A\u001b[A\u001b[A\n",
      "\n",
      "\n",
      "Downloading model.safetensors:  68%|███████████████████████████████▍              | 1.55G/2.28G [02:30<01:13, 9.83MB/s]\u001b[A\u001b[A\u001b[A\n",
      "\n",
      "\n",
      "Downloading model.safetensors:  69%|███████████████████████████████▌              | 1.56G/2.28G [02:31<01:17, 9.17MB/s]\u001b[A\u001b[A\u001b[A\n",
      "\n",
      "\n",
      "Downloading model.safetensors:  69%|███████████████████████████████▊              | 1.57G/2.28G [02:32<01:13, 9.49MB/s]\u001b[A\u001b[A\u001b[A\n",
      "\n",
      "\n",
      "Downloading model.safetensors:  70%|████████████████████████████████              | 1.58G/2.28G [02:33<01:04, 10.7MB/s]\u001b[A\u001b[A\u001b[A\n",
      "\n",
      "\n",
      "Downloading model.safetensors:  70%|████████████████████████████████▏             | 1.59G/2.28G [02:34<00:57, 11.9MB/s]\u001b[A\u001b[A\u001b[A\n",
      "\n",
      "\n",
      "Downloading model.safetensors:  71%|████████████████████████████████▍             | 1.60G/2.28G [02:34<00:52, 12.8MB/s]\u001b[A\u001b[A\u001b[A\n",
      "\n",
      "\n",
      "Downloading model.safetensors:  71%|████████████████████████████████▋             | 1.61G/2.28G [02:35<00:53, 12.3MB/s]\u001b[A\u001b[A\u001b[A\n",
      "\n",
      "\n",
      "Downloading model.safetensors:  71%|████████████████████████████████▊             | 1.63G/2.28G [02:36<00:51, 12.7MB/s]\u001b[A\u001b[A\u001b[A\n",
      "\n",
      "\n",
      "Downloading model.safetensors:  72%|█████████████████████████████████             | 1.64G/2.28G [02:37<00:53, 12.1MB/s]\u001b[A\u001b[A\u001b[A\n",
      "\n",
      "\n",
      "Downloading model.safetensors:  72%|█████████████████████████████████▎            | 1.65G/2.28G [02:38<00:53, 11.7MB/s]\u001b[A\u001b[A\u001b[A\n",
      "\n",
      "\n",
      "Downloading model.safetensors:  73%|█████████████████████████████████▍            | 1.66G/2.28G [02:39<00:56, 11.0MB/s]\u001b[A\u001b[A\u001b[A\n",
      "\n",
      "\n",
      "Downloading model.safetensors:  73%|█████████████████████████████████▋            | 1.67G/2.28G [02:40<00:58, 10.4MB/s]\u001b[A\u001b[A\u001b[A\n",
      "\n",
      "\n",
      "Downloading model.safetensors:  74%|█████████████████████████████████▉            | 1.68G/2.28G [02:41<00:57, 10.5MB/s]\u001b[A\u001b[A\u001b[A\n",
      "\n",
      "\n",
      "Downloading model.safetensors:  74%|██████████████████████████████████▏           | 1.69G/2.28G [02:42<00:56, 10.4MB/s]\u001b[A\u001b[A\u001b[A\n",
      "\n",
      "\n",
      "Downloading model.safetensors:  75%|██████████████████████████████████▎           | 1.70G/2.28G [02:43<00:57, 9.98MB/s]\u001b[A\u001b[A\u001b[A\n",
      "\n",
      "\n",
      "Downloading model.safetensors:  75%|██████████████████████████████████▌           | 1.71G/2.28G [02:44<00:56, 10.0MB/s]\u001b[A\u001b[A\u001b[A\n",
      "\n",
      "\n",
      "Downloading model.safetensors:  76%|██████████████████████████████████▊           | 1.72G/2.28G [02:46<01:00, 9.24MB/s]\u001b[A\u001b[A\u001b[A\n",
      "\n",
      "\n",
      "Downloading model.safetensors:  76%|██████████████████████████████████▉           | 1.73G/2.28G [02:47<01:04, 8.46MB/s]\u001b[A\u001b[A\u001b[A\n",
      "\n",
      "\n",
      "Downloading model.safetensors:  77%|███████████████████████████████████▏          | 1.74G/2.28G [02:49<01:05, 8.16MB/s]\u001b[A\u001b[A\u001b[A\n",
      "\n",
      "\n",
      "Downloading model.safetensors:  77%|███████████████████████████████████▍          | 1.75G/2.28G [02:50<01:04, 8.13MB/s]\u001b[A\u001b[A\u001b[A\n",
      "\n",
      "\n",
      "Downloading model.safetensors:  77%|███████████████████████████████████▌          | 1.76G/2.28G [02:51<01:03, 8.07MB/s]\u001b[A\u001b[A\u001b[A\n",
      "\n",
      "\n",
      "Downloading model.safetensors:  78%|███████████████████████████████████▊          | 1.77G/2.28G [02:53<01:08, 7.36MB/s]\u001b[A\u001b[A\u001b[A\n",
      "\n",
      "\n",
      "Downloading model.safetensors:  78%|████████████████████████████████████          | 1.78G/2.28G [02:54<01:06, 7.37MB/s]\u001b[A\u001b[A\u001b[A\n",
      "\n",
      "\n",
      "Downloading model.safetensors:  79%|████████████████████████████████████▎         | 1.79G/2.28G [02:56<01:10, 6.87MB/s]\u001b[A\u001b[A\u001b[A\n",
      "\n",
      "\n",
      "Downloading model.safetensors:  79%|████████████████████████████████████▍         | 1.80G/2.28G [02:58<01:10, 6.65MB/s]\u001b[A\u001b[A\u001b[A\n",
      "\n",
      "\n",
      "Downloading model.safetensors:  80%|████████████████████████████████████▋         | 1.81G/2.28G [02:59<01:08, 6.69MB/s]\u001b[A\u001b[A\u001b[A\n",
      "\n",
      "\n",
      "Downloading model.safetensors:  80%|████████████████████████████████████▉         | 1.82G/2.28G [03:01<01:05, 6.88MB/s]\u001b[A\u001b[A\u001b[A\n",
      "\n",
      "\n",
      "Downloading model.safetensors:  81%|█████████████████████████████████████         | 1.84G/2.28G [03:02<00:56, 7.82MB/s]\u001b[A\u001b[A\u001b[A\n",
      "\n",
      "\n",
      "Downloading model.safetensors:  81%|█████████████████████████████████████▎        | 1.85G/2.28G [03:03<00:54, 7.88MB/s]\u001b[A\u001b[A\u001b[A\n",
      "\n",
      "\n",
      "Downloading model.safetensors:  82%|█████████████████████████████████████▌        | 1.86G/2.28G [03:04<00:49, 8.42MB/s]\u001b[A\u001b[A\u001b[A\n",
      "\n",
      "\n",
      "Downloading model.safetensors:  82%|█████████████████████████████████████▋        | 1.87G/2.28G [03:05<00:46, 8.81MB/s]\u001b[A\u001b[A\u001b[A\n",
      "\n",
      "\n",
      "Downloading model.safetensors:  82%|█████████████████████████████████████▉        | 1.88G/2.28G [03:06<00:42, 9.39MB/s]\u001b[A\u001b[A\u001b[A\n",
      "\n",
      "\n",
      "Downloading model.safetensors:  83%|██████████████████████████████████████▏       | 1.89G/2.28G [03:07<00:43, 8.90MB/s]\u001b[A\u001b[A\u001b[A\n",
      "\n",
      "\n",
      "Downloading model.safetensors:  83%|██████████████████████████████████████▎       | 1.90G/2.28G [03:08<00:39, 9.58MB/s]\u001b[A\u001b[A\u001b[A\n",
      "\n",
      "\n",
      "Downloading model.safetensors:  84%|██████████████████████████████████████▌       | 1.91G/2.28G [03:10<00:39, 9.17MB/s]\u001b[A\u001b[A\u001b[A\n",
      "\n",
      "\n",
      "Downloading model.safetensors:  84%|██████████████████████████████████████▊       | 1.92G/2.28G [03:11<00:41, 8.65MB/s]\u001b[A\u001b[A\u001b[A\n",
      "\n",
      "\n",
      "Downloading model.safetensors:  85%|███████████████████████████████████████       | 1.93G/2.28G [03:13<00:43, 7.98MB/s]\u001b[A\u001b[A\u001b[A\n",
      "\n",
      "\n",
      "Downloading model.safetensors:  85%|███████████████████████████████████████▏      | 1.94G/2.28G [03:14<00:41, 8.16MB/s]\u001b[A\u001b[A\u001b[A\n",
      "\n",
      "\n",
      "Downloading model.safetensors:  86%|███████████████████████████████████████▍      | 1.95G/2.28G [03:15<00:39, 8.31MB/s]\u001b[A\u001b[A\u001b[A\n",
      "\n",
      "\n",
      "Downloading model.safetensors:  86%|████████████████████████████████████████▌      | 1.96G/2.28G [05:27<20:15, 259kB/s]\u001b[A\u001b[A\u001b[A\n",
      "\n",
      "\n",
      "Downloading model.safetensors:  87%|████████████████████████████████████████▋      | 1.97G/2.28G [05:30<14:07, 359kB/s]\u001b[A\u001b[A\u001b[A\n",
      "\n",
      "\n",
      "Downloading model.safetensors:  87%|████████████████████████████████████████▉      | 1.98G/2.28G [05:31<09:44, 502kB/s]\u001b[A\u001b[A\u001b[A\n",
      "\n",
      "\n",
      "Downloading model.safetensors:  88%|█████████████████████████████████████████▏     | 1.99G/2.28G [05:33<06:44, 700kB/s]\u001b[A\u001b[A\u001b[A\n",
      "\n",
      "\n",
      "Downloading model.safetensors:  88%|█████████████████████████████████████████▎     | 2.00G/2.28G [05:34<04:43, 961kB/s]\u001b[A\u001b[A\u001b[A\n",
      "\n",
      "\n",
      "Downloading model.safetensors:  88%|████████████████████████████████████████▋     | 2.01G/2.28G [05:35<03:21, 1.30MB/s]\u001b[A\u001b[A\u001b[A\n",
      "\n",
      "\n",
      "Downloading model.safetensors:  89%|████████████████████████████████████████▉     | 2.02G/2.28G [05:37<02:24, 1.74MB/s]\u001b[A\u001b[A\u001b[A\n",
      "\n",
      "\n",
      "Downloading model.safetensors:  89%|█████████████████████████████████████████▏    | 2.03G/2.28G [05:38<01:44, 2.32MB/s]\u001b[A\u001b[A\u001b[A\n",
      "\n",
      "\n",
      "Downloading model.safetensors:  90%|█████████████████████████████████████████▎    | 2.04G/2.28G [05:39<01:14, 3.08MB/s]\u001b[A\u001b[A\u001b[A\n",
      "\n",
      "\n",
      "Downloading model.safetensors:  90%|█████████████████████████████████████████▌    | 2.06G/2.28G [05:39<00:55, 3.96MB/s]\u001b[A\u001b[A\u001b[A\n",
      "\n",
      "\n",
      "Downloading model.safetensors:  91%|█████████████████████████████████████████▊    | 2.07G/2.28G [05:40<00:41, 5.09MB/s]\u001b[A\u001b[A\u001b[A\n",
      "\n",
      "\n",
      "Downloading model.safetensors:  91%|█████████████████████████████████████████▉    | 2.08G/2.28G [05:42<00:37, 5.29MB/s]\u001b[A\u001b[A\u001b[A\n",
      "\n",
      "\n",
      "Downloading model.safetensors:  92%|██████████████████████████████████████████▏   | 2.09G/2.28G [05:43<00:31, 6.04MB/s]\u001b[A\u001b[A\u001b[A\n",
      "\n",
      "\n",
      "Downloading model.safetensors:  92%|██████████████████████████████████████████▍   | 2.10G/2.28G [05:45<00:29, 6.09MB/s]\u001b[A\u001b[A\u001b[A\n",
      "\n",
      "\n",
      "Downloading model.safetensors:  93%|██████████████████████████████████████████▌   | 2.11G/2.28G [05:47<00:30, 5.53MB/s]\u001b[A\u001b[A\u001b[A\n",
      "\n",
      "\n",
      "Downloading model.safetensors:  93%|██████████████████████████████████████████▊   | 2.12G/2.28G [05:49<00:28, 5.56MB/s]\u001b[A\u001b[A\u001b[A\n",
      "\n",
      "\n",
      "Downloading model.safetensors:  94%|███████████████████████████████████████████   | 2.13G/2.28G [05:50<00:23, 6.21MB/s]\u001b[A\u001b[A\u001b[A\n",
      "\n",
      "\n",
      "Downloading model.safetensors:  94%|███████████████████████████████████████████▏  | 2.14G/2.28G [05:51<00:20, 6.77MB/s]\u001b[A\u001b[A\u001b[A\n",
      "\n",
      "\n",
      "Downloading model.safetensors:  94%|███████████████████████████████████████████▍  | 2.15G/2.28G [05:52<00:15, 8.08MB/s]\u001b[A\u001b[A\u001b[A\n",
      "\n",
      "\n",
      "Downloading model.safetensors:  95%|███████████████████████████████████████████▋  | 2.16G/2.28G [05:53<00:13, 8.68MB/s]\u001b[A\u001b[A\u001b[A\n",
      "\n",
      "\n",
      "Downloading model.safetensors:  95%|███████████████████████████████████████████▉  | 2.17G/2.28G [05:56<00:16, 6.45MB/s]\u001b[A\u001b[A\u001b[A\n",
      "\n",
      "\n",
      "Downloading model.safetensors:  96%|████████████████████████████████████████████  | 2.18G/2.28G [05:57<00:13, 7.02MB/s]\u001b[A\u001b[A\u001b[A\n",
      "\n",
      "\n",
      "Downloading model.safetensors:  96%|████████████████████████████████████████████▎ | 2.19G/2.28G [05:58<00:10, 7.94MB/s]\u001b[A\u001b[A\u001b[A\n",
      "\n",
      "\n",
      "Downloading model.safetensors:  97%|████████████████████████████████████████████▌ | 2.20G/2.28G [05:59<00:08, 9.01MB/s]\u001b[A\u001b[A\u001b[A\n",
      "\n",
      "\n",
      "Downloading model.safetensors:  97%|████████████████████████████████████████████▋ | 2.21G/2.28G [06:00<00:06, 9.30MB/s]\u001b[A\u001b[A\u001b[A\n",
      "\n",
      "\n",
      "Downloading model.safetensors:  98%|████████████████████████████████████████████▉ | 2.22G/2.28G [06:01<00:05, 9.41MB/s]\u001b[A\u001b[A\u001b[A\n",
      "\n",
      "\n",
      "Downloading model.safetensors:  98%|█████████████████████████████████████████████▏| 2.23G/2.28G [06:01<00:03, 10.6MB/s]\u001b[A\u001b[A\u001b[A\n",
      "\n",
      "\n",
      "Downloading model.safetensors:  99%|█████████████████████████████████████████████▎| 2.24G/2.28G [06:02<00:02, 11.6MB/s]\u001b[A\u001b[A\u001b[A\n",
      "\n",
      "\n",
      "Downloading model.safetensors:  99%|█████████████████████████████████████████████▌| 2.25G/2.28G [06:03<00:01, 11.5MB/s]\u001b[A\u001b[A\u001b[A\n",
      "\n",
      "\n",
      "Downloading model.safetensors: 100%|█████████████████████████████████████████████▊| 2.26G/2.28G [06:04<00:00, 11.9MB/s]\u001b[A\u001b[A\u001b[A\n",
      "\n",
      "\n",
      "Downloading model.safetensors: 100%|██████████████████████████████████████████████| 2.28G/2.28G [06:04<00:00, 6.23MB/s]\u001b[A\u001b[A\u001b[A\n",
      "C:\\Users\\manav\\anaconda3\\lib\\site-packages\\huggingface_hub\\file_download.py:137: UserWarning: `huggingface_hub` cache-system uses symlinks by default to efficiently store duplicated files but your machine does not support them in C:\\Users\\manav\\.cache\\huggingface\\hub. Caching files will still work but in a degraded version that might require more space on your disk. This warning can be disabled by setting the `HF_HUB_DISABLE_SYMLINKS_WARNING` environment variable. For more details, see https://huggingface.co/docs/huggingface_hub/how-to-cache#limitations.\n",
      "To support symlinks on Windows, you either need to activate Developer Mode or to run Python as an administrator. In order to see activate developer mode, see this article: https://docs.microsoft.com/en-us/windows/apps/get-started/enable-your-device-for-development\n",
      "  warnings.warn(message)\n",
      "Downloading model.safetensors:  82%|███████████████████████████████       | 1.86G/2.28G [19:05<04:17, 1.62MB/s]\n",
      "Downloading model.safetensors:   5%|██                                            | 105M/2.28G [07:45<2:40:24, 225kB/s]\n",
      "Some weights of PegasusForConditionalGeneration were not initialized from the model checkpoint at human-centered-summarization/financial-summarization-pegasus and are newly initialized: ['model.decoder.embed_positions.weight', 'model.encoder.embed_positions.weight']\n",
      "You should probably TRAIN this model on a down-stream task to be able to use it for predictions and inference.\n"
     ]
    }
   ],
   "source": [
    "model_name=\"human-centered-summarization/financial-summarization-pegasus\"\n",
    "tokenizer=PegasusTokenizer.from_pretrained(model_name)\n",
    "model=PegasusForConditionalGeneration.from_pretrained(model_name)"
   ]
  },
  {
   "cell_type": "markdown",
   "id": "7657211e-9485-4792-8d77-20fa4e512f1b",
   "metadata": {},
   "source": [
    "# 2.Summarise an article "
   ]
  },
  {
   "cell_type": "code",
   "execution_count": 6,
   "id": "617effae-eb37-4d0b-93e0-ef0c2dd6f0cc",
   "metadata": {},
   "outputs": [],
   "source": [
    "url=\"https://au.finance.yahoo.com/news/bank-hit-major-outage-043800328.html\"\n",
    "r = requests.get(url)\n",
    "soup=BeautifulSoup(r.text,'html.parser')\n",
    "paragraphs=soup.find_all(\"p\")"
   ]
  },
  {
   "cell_type": "code",
   "execution_count": 7,
   "id": "43cc6672-5286-4454-87d1-43824206595a",
   "metadata": {
    "tags": []
   },
   "outputs": [
    {
     "data": {
      "text/plain": [
       "'A bank outage that left customers unable to pay for everyday goods before the start of the holiday weekend has largely been resolved.'"
      ]
     },
     "execution_count": 7,
     "metadata": {},
     "output_type": "execute_result"
    }
   ],
   "source": [
    "paragraphs[0].text"
   ]
  },
  {
   "cell_type": "code",
   "execution_count": 8,
   "id": "1d26fbc8-0a7a-4374-9bbd-de4560ab8125",
   "metadata": {
    "tags": []
   },
   "outputs": [],
   "source": [
    "text=[paragraph.text for paragraph in paragraphs]\n",
    "words=' '.join(text).split(' ')[:400]"
   ]
  },
  {
   "cell_type": "code",
   "execution_count": 9,
   "id": "e0229338-14ae-4a50-bdfb-f5fa74c46ae3",
   "metadata": {
    "tags": []
   },
   "outputs": [],
   "source": [
    "ARTICLE=' '.join(words)"
   ]
  },
  {
   "cell_type": "code",
   "execution_count": 10,
   "id": "7580c2c7-9df1-4d68-b63e-373e68f78d5e",
   "metadata": {
    "tags": []
   },
   "outputs": [
    {
     "data": {
      "text/plain": [
       "'A bank outage that left customers unable to pay for everyday goods before the start of the holiday weekend has largely been resolved. ANZ customers took to social media on Friday amid reports users were unable to access the bank’s online service since about midday. Customers also reported being unable to reach the bank via their telephone line, with one person stating that “everyone is having problems”. A spokesperson for the bank confirmed “most systems” were back online by about 5pm, including internet banking, ATMs, and the ANZ app. “However, we are still experiencing some instability across our Visa Credit Card transaction services.” the spokesperson said. “We recommend customers use Debit Card or Cash wherever accepted while our teams are continuing to work to resolve.” The spokesperson said the widespread outage was caused by a software issue which impacted a number of our “core systems” from 1.37pm. The issue resulted in multiple internal and customer facing programs to shutter, including branch services, debit, and credit car transactions. Nicole Spaccavento said she was shopping when her card was unexpectedly declined, despite there being sufficient funds for the purchase. “I tried to log in to the app and it wouldn’t load so I called my husband to see if he could, to no avail,” she said. “Had to leave my shopping and go to the branch and was told all systems down nationwide. “They were allowing $200 withdrawal through the ATM at the moment per customer – doesn’t help when my shopping total was over that. “Luckily, I managed to get $200 out of one account and another $200 out of another … Quite embarrassing when you are at the register.” The outage stirred frustrations among users who labelled the outage on the eve of a long weekend “outrageous”. Customers described being unable to gather “supplies” for the public holiday, with business account holders also impacted. “ANZ down. I am locked out of my account. Cannot pay rent or payroll. Just went to the branch and they have closed it,” Ben O’Brien wrote. “The young guy said they are all locked out of their own system and unknown when it will be up and running.” Adam Preen also reported being “locked out” of his ANZ business account on workers’ payday and was unable to reach ANZ by phone. “What am I supposed to tell people, sorry I can’t pay you today. The'"
      ]
     },
     "execution_count": 10,
     "metadata": {},
     "output_type": "execute_result"
    }
   ],
   "source": [
    "ARTICLE"
   ]
  },
  {
   "cell_type": "code",
   "execution_count": 11,
   "id": "41297a2c-dd8a-40f0-8091-b23058f72d7b",
   "metadata": {
    "tags": []
   },
   "outputs": [],
   "source": [
    "input_ids=tokenizer.encode(ARTICLE,return_tensors='pt')\n",
    "output=model.generate(input_ids,max_length=55,num_beams=5,early_stopping=True)\n",
    "summary=tokenizer.decode(output[0],skip_special_tokens=True)"
   ]
  },
  {
   "cell_type": "code",
   "execution_count": 12,
   "id": "de059bb7-7d28-4caa-8822-20391b10f6b1",
   "metadata": {
    "tags": []
   },
   "outputs": [
    {
     "data": {
      "text/plain": [
       "'Customers express frustration on social media over outage. ANZ says ‘most systems’ back online by 5pm'"
      ]
     },
     "execution_count": 12,
     "metadata": {},
     "output_type": "execute_result"
    }
   ],
   "source": [
    "summary"
   ]
  },
  {
   "cell_type": "markdown",
   "id": "95b2f74c-aab9-4998-8a4c-aea40f0fe3e2",
   "metadata": {},
   "source": [
    "# 4.Build a News and Sentiment Pipeline "
   ]
  },
  {
   "cell_type": "code",
   "execution_count": 18,
   "id": "a58d3d18-0902-4790-a89b-0750d0734ae9",
   "metadata": {
    "tags": []
   },
   "outputs": [],
   "source": [
    "#companies: Game Stop, Tesla, Bitcoin\n",
    "monitored_tickers=['GME','TSLA','BTC']"
   ]
  },
  {
   "cell_type": "markdown",
   "id": "722154b5-9ee0-4520-94bf-e20ff27c04b6",
   "metadata": {},
   "source": [
    "## Search for Stock News using Google and Yahoo Finance "
   ]
  },
  {
   "cell_type": "code",
   "execution_count": 16,
   "id": "2ccb0b8a-77f2-488c-8879-bfd5ccac1cb2",
   "metadata": {
    "tags": []
   },
   "outputs": [],
   "source": [
    "def search_for_stock_news_urls(ticker):\n",
    "    search_url=f\"https://www.google.com/search?q=yahoo+finance+{ticker}&sca_esv=569660528&tbm=nws\"\n",
    "    r=requests.get(search_url)\n",
    "    soup=BeautifulSoup(r.text,\"html.parser\")\n",
    "    atags=soup.find_all('a')\n",
    "    hrefs=[link[\"href\"] for link in atags]\n",
    "    return hrefs"
   ]
  },
  {
   "cell_type": "code",
   "execution_count": 17,
   "id": "03af1d58-c27e-402a-bc10-731edae635dc",
   "metadata": {
    "tags": []
   },
   "outputs": [
    {
     "data": {
      "text/plain": [
       "{'GME': ['/?sa=X&ved=0ahUKEwjX8u2H5dGBAxWoGbkGHfoaDSEQOwgC',\n",
       "  '/search?q=yahoo+finance+GME&tbm=nws&sca_esv=569660528&ie=UTF-8&gbv=1&sei=PssXZdfbAqiz5OUP-rW0iAI',\n",
       "  '/search?q=yahoo+finance+GME&sca_esv=569660528&ie=UTF-8&source=lnms&sa=X&ved=0ahUKEwjX8u2H5dGBAxWoGbkGHfoaDSEQ_AUIBSgA',\n",
       "  '/search?q=yahoo+finance+GME&sca_esv=569660528&ie=UTF-8&tbm=vid&source=lnms&sa=X&ved=0ahUKEwjX8u2H5dGBAxWoGbkGHfoaDSEQ_AUIBygC',\n",
       "  '/search?q=yahoo+finance+GME&sca_esv=569660528&ie=UTF-8&tbm=bks&source=lnms&sa=X&ved=0ahUKEwjX8u2H5dGBAxWoGbkGHfoaDSEQ_AUICCgD',\n",
       "  '/search?q=yahoo+finance+GME&sca_esv=569660528&ie=UTF-8&tbm=isch&source=lnms&sa=X&ved=0ahUKEwjX8u2H5dGBAxWoGbkGHfoaDSEQ_AUICSgE',\n",
       "  'https://maps.google.com/maps?q=yahoo+finance+GME&sca_esv=569660528&um=1&ie=UTF-8&sa=X&ved=0ahUKEwjX8u2H5dGBAxWoGbkGHfoaDSEQ_AUICigF',\n",
       "  '/search?q=yahoo+finance+GME&sca_esv=569660528&ie=UTF-8&tbm=shop&source=lnms&sa=X&ved=0ahUKEwjX8u2H5dGBAxWoGbkGHfoaDSEQ_AUICygG',\n",
       "  '/advanced_search',\n",
       "  '/search?q=yahoo+finance+GME&sca_esv=569660528&ie=UTF-8&tbm=nws&source=lnt&tbs=qdr:h&sa=X&ved=0ahUKEwjX8u2H5dGBAxWoGbkGHfoaDSEQpwUIDQ',\n",
       "  '/search?q=yahoo+finance+GME&sca_esv=569660528&ie=UTF-8&tbm=nws&source=lnt&tbs=qdr:d&sa=X&ved=0ahUKEwjX8u2H5dGBAxWoGbkGHfoaDSEQpwUIDg',\n",
       "  '/search?q=yahoo+finance+GME&sca_esv=569660528&ie=UTF-8&tbm=nws&source=lnt&tbs=qdr:w&sa=X&ved=0ahUKEwjX8u2H5dGBAxWoGbkGHfoaDSEQpwUIDw',\n",
       "  '/search?q=yahoo+finance+GME&sca_esv=569660528&ie=UTF-8&tbm=nws&source=lnt&tbs=qdr:m&sa=X&ved=0ahUKEwjX8u2H5dGBAxWoGbkGHfoaDSEQpwUIEA',\n",
       "  '/search?q=yahoo+finance+GME&sca_esv=569660528&ie=UTF-8&tbm=nws&source=lnt&tbs=qdr:y&sa=X&ved=0ahUKEwjX8u2H5dGBAxWoGbkGHfoaDSEQpwUIEQ',\n",
       "  '/search?q=yahoo+finance+GME&sca_esv=569660528&ie=UTF-8&tbm=nws&source=lnt&tbs=ar:1&sa=X&ved=0ahUKEwjX8u2H5dGBAxWoGbkGHfoaDSEQpwUIEg',\n",
       "  '/search?q=yahoo+finance+GME&sca_esv=569660528&ie=UTF-8&tbm=nws&source=lnt&tbs=sbd:1&sa=X&ved=0ahUKEwjX8u2H5dGBAxWoGbkGHfoaDSEQpwUIFA',\n",
       "  '/url?q=https://www.cnbc.com/2023/09/28/gamestop-names-ryan-cohen-as-ceo-effective-immediately.html&sa=U&ved=2ahUKEwjX8u2H5dGBAxWoGbkGHfoaDSEQxfQBegQIBxAC&usg=AOvVaw1Xes6Jbr_V_unlx_l8Nql0',\n",
       "  '/url?q=https://www.barrons.com/articles/gamestop-stock-price-ryan-cohen-aa31dd8b&sa=U&ved=2ahUKEwjX8u2H5dGBAxWoGbkGHfoaDSEQxfQBegQICRAC&usg=AOvVaw2phGKyBPapa5OqWBsV0UZ9',\n",
       "  '/url?q=https://www.moneycontrol.com/news/trends/gamestop-ceo-ryan-cohen-will-get-zero-salary-his-email-to-staff-11449581.html&sa=U&ved=2ahUKEwjX8u2H5dGBAxWoGbkGHfoaDSEQxfQBegQIBhAC&usg=AOvVaw3Tx7x03r1S4CObHrHSdjwZ',\n",
       "  '/url?q=https://www.daijiworld.com/news/newsDisplay%3FnewsID%3D1125375&sa=U&ved=2ahUKEwjX8u2H5dGBAxWoGbkGHfoaDSEQxfQBegQIABAC&usg=AOvVaw07lZvuK8moVNBncgJuA0Dw',\n",
       "  '/url?q=https://www.news18.com/viral/american-gaming-company-appoints-new-ceo-but-wont-pay-him-any-salary-8597177.html&sa=U&ved=2ahUKEwjX8u2H5dGBAxWoGbkGHfoaDSEQxfQBegQICBAC&usg=AOvVaw29FlJOmRK2TTRvrH8TMs09',\n",
       "  '/url?q=https://qz.com/emails/daily-brief/1850885687/memeing-to-the-top&sa=U&ved=2ahUKEwjX8u2H5dGBAxWoGbkGHfoaDSEQxfQBegQIBRAC&usg=AOvVaw3OPRU9dgcDXT3N4xlXu8Ea',\n",
       "  '/url?q=https://www.marketwatch.com/story/gamestop-stock-soars-after-ryan-cohen-named-ceo-b37f71be&sa=U&ved=2ahUKEwjX8u2H5dGBAxWoGbkGHfoaDSEQxfQBegQIAhAC&usg=AOvVaw1qPXQ-QpPQMjXeeGWGJMmx',\n",
       "  '/url?q=https://www.forbes.com/sites/maryroeloffs/2023/09/28/billionaire-chair-ryan-cohen-named-gamestop-ceo-years-after-meme-stock-surge/&sa=U&ved=2ahUKEwjX8u2H5dGBAxWoGbkGHfoaDSEQxfQBegQIAxAC&usg=AOvVaw3o9wZK37cm-N5TVGUtxJmH',\n",
       "  '/url?q=https://seekingalpha.com/news/4016093-biggest-stock-movers-today-peloton-micron-technology-and-more&sa=U&ved=2ahUKEwjX8u2H5dGBAxWoGbkGHfoaDSEQxfQBegQIARAC&usg=AOvVaw1wwPawgZKjXN82upEWn5vx',\n",
       "  '/url?q=https://www.thestreet.com/memestocks/gme/gamestop-stock-danger-ahead-for-short-sellers&sa=U&ved=2ahUKEwjX8u2H5dGBAxWoGbkGHfoaDSEQxfQBegQIBBAC&usg=AOvVaw3CEhnbkV2TtKhW6KCSpHwQ',\n",
       "  '/search?q=yahoo+finance+GME&sca_esv=569660528&ie=UTF-8&tbm=nws&ei=PssXZdfbAqiz5OUP-rW0iAI&start=10&sa=N',\n",
       "  '/url?q=https://support.google.com/websearch%3Fp%3Dws_settings_location%26hl%3Den-IN&opi=89978449&sa=U&ved=0ahUKEwjX8u2H5dGBAxWoGbkGHfoaDSEQty4IUw&usg=AOvVaw32r47YMWbrrPMxrl1yt-wI',\n",
       "  '/url?q=https://accounts.google.com/ServiceLogin%3Fcontinue%3Dhttps://www.google.com/search%253Fq%253Dyahoo%252Bfinance%252BGME%2526sca_esv%253D569660528%2526tbm%253Dnws%26hl%3Den&opi=89978449&sa=U&ved=0ahUKEwjX8u2H5dGBAxWoGbkGHfoaDSEQxs8CCFQ&usg=AOvVaw2l-PyzD6f9EJFucVwbbs-C',\n",
       "  'https://www.google.com/preferences?hl=en-IN&fg=1&sa=X&ved=0ahUKEwjX8u2H5dGBAxWoGbkGHfoaDSEQ5fUCCFU',\n",
       "  'https://policies.google.com/privacy?hl=en-IN&fg=1',\n",
       "  'https://policies.google.com/terms?hl=en-IN&fg=1',\n",
       "  '/setprefs?hl=en&prev=https://www.google.com/search?q%3Dyahoo%2Bfinance%2BGME%26sca_esv%3D569660528%26tbm%3Dnws%26pccc%3D1&sig=0_1asKPtGKSGtU6pgoXM1vk4AAPqw%3D&cs=2&sa=X&ved=0ahUKEwjX8u2H5dGBAxWoGbkGHfoaDSEQjcAJCFY'],\n",
       " 'TSLA': ['/?sa=X&ved=0ahUKEwjfn7KI5dGBAxWtFLkGHWR2C0MQOwgC',\n",
       "  '/search?q=yahoo+finance+TSLA&tbm=nws&sca_esv=569660528&ie=UTF-8&gbv=1&sei=P8sXZZ-ECq2p5OUP5OytmAQ',\n",
       "  '/search?q=yahoo+finance+TSLA&sca_esv=569660528&ie=UTF-8&source=lnms&sa=X&ved=0ahUKEwjfn7KI5dGBAxWtFLkGHWR2C0MQ_AUIBSgA',\n",
       "  '/search?q=yahoo+finance+TSLA&sca_esv=569660528&ie=UTF-8&tbm=vid&source=lnms&sa=X&ved=0ahUKEwjfn7KI5dGBAxWtFLkGHWR2C0MQ_AUIBygC',\n",
       "  '/search?q=yahoo+finance+TSLA&sca_esv=569660528&ie=UTF-8&tbm=bks&source=lnms&sa=X&ved=0ahUKEwjfn7KI5dGBAxWtFLkGHWR2C0MQ_AUICCgD',\n",
       "  '/search?q=yahoo+finance+TSLA&sca_esv=569660528&ie=UTF-8&tbm=isch&source=lnms&sa=X&ved=0ahUKEwjfn7KI5dGBAxWtFLkGHWR2C0MQ_AUICSgE',\n",
       "  'https://maps.google.com/maps?q=yahoo+finance+TSLA&sca_esv=569660528&um=1&ie=UTF-8&sa=X&ved=0ahUKEwjfn7KI5dGBAxWtFLkGHWR2C0MQ_AUICigF',\n",
       "  '/search?q=yahoo+finance+TSLA&sca_esv=569660528&ie=UTF-8&tbm=shop&source=lnms&sa=X&ved=0ahUKEwjfn7KI5dGBAxWtFLkGHWR2C0MQ_AUICygG',\n",
       "  '/advanced_search',\n",
       "  '/search?q=yahoo+finance+TSLA&sca_esv=569660528&ie=UTF-8&tbm=nws&source=lnt&tbs=qdr:h&sa=X&ved=0ahUKEwjfn7KI5dGBAxWtFLkGHWR2C0MQpwUIDQ',\n",
       "  '/search?q=yahoo+finance+TSLA&sca_esv=569660528&ie=UTF-8&tbm=nws&source=lnt&tbs=qdr:d&sa=X&ved=0ahUKEwjfn7KI5dGBAxWtFLkGHWR2C0MQpwUIDg',\n",
       "  '/search?q=yahoo+finance+TSLA&sca_esv=569660528&ie=UTF-8&tbm=nws&source=lnt&tbs=qdr:w&sa=X&ved=0ahUKEwjfn7KI5dGBAxWtFLkGHWR2C0MQpwUIDw',\n",
       "  '/search?q=yahoo+finance+TSLA&sca_esv=569660528&ie=UTF-8&tbm=nws&source=lnt&tbs=qdr:m&sa=X&ved=0ahUKEwjfn7KI5dGBAxWtFLkGHWR2C0MQpwUIEA',\n",
       "  '/search?q=yahoo+finance+TSLA&sca_esv=569660528&ie=UTF-8&tbm=nws&source=lnt&tbs=qdr:y&sa=X&ved=0ahUKEwjfn7KI5dGBAxWtFLkGHWR2C0MQpwUIEQ',\n",
       "  '/search?q=yahoo+finance+TSLA&sca_esv=569660528&ie=UTF-8&tbm=nws&source=lnt&tbs=ar:1&sa=X&ved=0ahUKEwjfn7KI5dGBAxWtFLkGHWR2C0MQpwUIEg',\n",
       "  '/search?q=yahoo+finance+TSLA&sca_esv=569660528&ie=UTF-8&tbm=nws&source=lnt&tbs=sbd:1&sa=X&ved=0ahUKEwjfn7KI5dGBAxWtFLkGHWR2C0MQpwUIFA',\n",
       "  '/url?q=https://www.investors.com/market-trend/stock-market-today/dow-jones-rises-as-inflation-steps-closer-to-fed-target-tesla-rises-ahead-of-deliveries/&sa=U&ved=2ahUKEwjfn7KI5dGBAxWtFLkGHWR2C0MQxfQBegQIBBAC&usg=AOvVaw1skqBXk6wRmDZLLLxNzEx5',\n",
       "  '/url?q=https://www.barrons.com/articles/tesla-stock-price-deliveries-d066a8a3&sa=U&ved=2ahUKEwjfn7KI5dGBAxWtFLkGHWR2C0MQxfQBegQICRAC&usg=AOvVaw3PdXGNjyot_Hyet94nPb4J',\n",
       "  '/url?q=https://www.livemint.com/market/live-blog/tesla-stock-price-live-updates-check-all-the-latest-updates-and-share-price-for-tesla-stock-on-29-sep-2023-11695993420506.html&sa=U&ved=2ahUKEwjfn7KI5dGBAxWtFLkGHWR2C0MQxfQBegQIAhAC&usg=AOvVaw3nUne-e9sb4VyaEyWOPvEt',\n",
       "  '/url?q=https://www.cnbc.com/2023/09/29/stocks-making-the-biggest-moves-midday-tsla-nke-ccl-nvda.html&sa=U&ved=2ahUKEwjfn7KI5dGBAxWtFLkGHWR2C0MQxfQBegQIABAC&usg=AOvVaw3G-QX2T63xBzmfhQP43Znk',\n",
       "  '/url?q=https://uk.finance.yahoo.com/news/tesla-amd-jd-sport-severn-trent-trending-tickers-121718397.html&sa=U&ved=2ahUKEwjfn7KI5dGBAxWtFLkGHWR2C0MQxfQBegQIBhAC&usg=AOvVaw13cPUetS-CHjZsIRlEvVW1',\n",
       "  '/url?q=https://www.wsj.com/finance/stocks/how-much-is-tesla-worth-you-decide-78b25ab1&sa=U&ved=2ahUKEwjfn7KI5dGBAxWtFLkGHWR2C0MQxfQBegQICBAC&usg=AOvVaw1h3O-EOR4btYYnlouZSsDV',\n",
       "  '/url?q=https://finbold.com/chatgpt-predicts-tesla-stock-price-after-cybertruck-launch/&sa=U&ved=2ahUKEwjfn7KI5dGBAxWtFLkGHWR2C0MQxfQBegQIAxAC&usg=AOvVaw27QnP4mHTEhlWSgQ-edOIA',\n",
       "  '/url?q=https://www.latestly.com/socially/technology/x-recruitment-feature-elon-musk-shares-early-stage-of-new-job-recruiment-platform-5450623.html&sa=U&ved=2ahUKEwjfn7KI5dGBAxWtFLkGHWR2C0MQxfQBegQIBRAC&usg=AOvVaw3mm-eNEJ73rkqDzH3HMgfF',\n",
       "  '/url?q=https://www.fool.com/investing/2023/09/29/1-ev-stock-to-buy-hand-over-fist-right-now-hint-it/&sa=U&ved=2ahUKEwjfn7KI5dGBAxWtFLkGHWR2C0MQxfQBegQIARAC&usg=AOvVaw3vOVMHk0GlT_KgpvS0dxES',\n",
       "  '/url?q=https://markets.businessinsider.com/news/stocks/tesla-stock-price-target-deutsche-bank-deliveries-production-outlook-ev-2023-9&sa=U&ved=2ahUKEwjfn7KI5dGBAxWtFLkGHWR2C0MQxfQBegQIBxAC&usg=AOvVaw1AMAiDG_Q9Swu-dPI8UbSS',\n",
       "  '/search?q=yahoo+finance+TSLA&sca_esv=569660528&ie=UTF-8&tbm=nws&ei=P8sXZZ-ECq2p5OUP5OytmAQ&start=10&sa=N',\n",
       "  '/url?q=https://support.google.com/websearch%3Fp%3Dws_settings_location%26hl%3Den-IN&opi=89978449&sa=U&ved=0ahUKEwjfn7KI5dGBAxWtFLkGHWR2C0MQty4IUw&usg=AOvVaw1G_94temTitEILvKjEFqEy',\n",
       "  '/url?q=https://accounts.google.com/ServiceLogin%3Fcontinue%3Dhttps://www.google.com/search%253Fq%253Dyahoo%252Bfinance%252BTSLA%2526sca_esv%253D569660528%2526tbm%253Dnws%26hl%3Den&opi=89978449&sa=U&ved=0ahUKEwjfn7KI5dGBAxWtFLkGHWR2C0MQxs8CCFQ&usg=AOvVaw3CQP0xKNnLnPQZWCY_UZ_J',\n",
       "  'https://www.google.com/preferences?hl=en-IN&fg=1&sa=X&ved=0ahUKEwjfn7KI5dGBAxWtFLkGHWR2C0MQ5fUCCFU',\n",
       "  'https://policies.google.com/privacy?hl=en-IN&fg=1',\n",
       "  'https://policies.google.com/terms?hl=en-IN&fg=1',\n",
       "  '/setprefs?hl=en&prev=https://www.google.com/search?q%3Dyahoo%2Bfinance%2BTSLA%26sca_esv%3D569660528%26tbm%3Dnws%26pccc%3D1&sig=0_2ZpsPwNm81uzIfGbERY1knIpyhM%3D&cs=2&sa=X&ved=0ahUKEwjfn7KI5dGBAxWtFLkGHWR2C0MQjcAJCFY'],\n",
       " 'BTC': ['/?sa=X&ved=0ahUKEwjWv_aI5dGBAxWhJrkGHYeUC-sQOwgC',\n",
       "  '/search?q=yahoo+finance+BTC&tbm=nws&sca_esv=569660528&ie=UTF-8&gbv=1&sei=QMsXZdafEaHN5OUPh6mu2A4',\n",
       "  '/search?q=yahoo+finance+BTC&sca_esv=569660528&ie=UTF-8&source=lnms&sa=X&ved=0ahUKEwjWv_aI5dGBAxWhJrkGHYeUC-sQ_AUIBSgA',\n",
       "  '/search?q=yahoo+finance+BTC&sca_esv=569660528&ie=UTF-8&tbm=vid&source=lnms&sa=X&ved=0ahUKEwjWv_aI5dGBAxWhJrkGHYeUC-sQ_AUIBygC',\n",
       "  '/search?q=yahoo+finance+BTC&sca_esv=569660528&ie=UTF-8&tbm=bks&source=lnms&sa=X&ved=0ahUKEwjWv_aI5dGBAxWhJrkGHYeUC-sQ_AUICCgD',\n",
       "  '/search?q=yahoo+finance+BTC&sca_esv=569660528&ie=UTF-8&tbm=isch&source=lnms&sa=X&ved=0ahUKEwjWv_aI5dGBAxWhJrkGHYeUC-sQ_AUICSgE',\n",
       "  'https://maps.google.com/maps?q=yahoo+finance+BTC&sca_esv=569660528&um=1&ie=UTF-8&sa=X&ved=0ahUKEwjWv_aI5dGBAxWhJrkGHYeUC-sQ_AUICigF',\n",
       "  '/search?q=yahoo+finance+BTC&sca_esv=569660528&ie=UTF-8&tbm=shop&source=lnms&sa=X&ved=0ahUKEwjWv_aI5dGBAxWhJrkGHYeUC-sQ_AUICygG',\n",
       "  '/advanced_search',\n",
       "  '/search?q=yahoo+finance+BTC&sca_esv=569660528&ie=UTF-8&tbm=nws&source=lnt&tbs=qdr:h&sa=X&ved=0ahUKEwjWv_aI5dGBAxWhJrkGHYeUC-sQpwUIDQ',\n",
       "  '/search?q=yahoo+finance+BTC&sca_esv=569660528&ie=UTF-8&tbm=nws&source=lnt&tbs=qdr:d&sa=X&ved=0ahUKEwjWv_aI5dGBAxWhJrkGHYeUC-sQpwUIDg',\n",
       "  '/search?q=yahoo+finance+BTC&sca_esv=569660528&ie=UTF-8&tbm=nws&source=lnt&tbs=qdr:w&sa=X&ved=0ahUKEwjWv_aI5dGBAxWhJrkGHYeUC-sQpwUIDw',\n",
       "  '/search?q=yahoo+finance+BTC&sca_esv=569660528&ie=UTF-8&tbm=nws&source=lnt&tbs=qdr:m&sa=X&ved=0ahUKEwjWv_aI5dGBAxWhJrkGHYeUC-sQpwUIEA',\n",
       "  '/search?q=yahoo+finance+BTC&sca_esv=569660528&ie=UTF-8&tbm=nws&source=lnt&tbs=qdr:y&sa=X&ved=0ahUKEwjWv_aI5dGBAxWhJrkGHYeUC-sQpwUIEQ',\n",
       "  '/search?q=yahoo+finance+BTC&sca_esv=569660528&ie=UTF-8&tbm=nws&source=lnt&tbs=ar:1&sa=X&ved=0ahUKEwjWv_aI5dGBAxWhJrkGHYeUC-sQpwUIEg',\n",
       "  '/search?q=yahoo+finance+BTC&sca_esv=569660528&ie=UTF-8&tbm=nws&source=lnt&tbs=sbd:1&sa=X&ved=0ahUKEwjWv_aI5dGBAxWhJrkGHYeUC-sQpwUIFA',\n",
       "  '/url?q=https://finance.yahoo.com/news/bitcoin-tops-27k-rates-oil-191951661.html&sa=U&ved=2ahUKEwjWv_aI5dGBAxWhJrkGHYeUC-sQxfQBegQIBRAC&usg=AOvVaw0FtqDucfHyNzdxep5OO2JV',\n",
       "  '/url?q=https://finance.yahoo.com/news/bitcoin-ether-edge-wall-street-021354224.html&sa=U&ved=2ahUKEwjWv_aI5dGBAxWhJrkGHYeUC-sQxfQBegQICRAC&usg=AOvVaw3tGpXII-bf09PcoqKi7kRB',\n",
       "  '/url?q=https://finance.yahoo.com/news/bitcoin-price-climbs-3-us-164800533.html&sa=U&ved=2ahUKEwjWv_aI5dGBAxWhJrkGHYeUC-sQxfQBegQIBBAC&usg=AOvVaw21IFhxS0a7tcYJ53eHynRI',\n",
       "  '/url?q=https://finance.yahoo.com/news/integrated-ventures-reports-3-862-140000828.html&sa=U&ved=2ahUKEwjWv_aI5dGBAxWhJrkGHYeUC-sQxfQBegQIARAC&usg=AOvVaw3NFC7ylHuzribKicg3Q3Tg',\n",
       "  '/url?q=https://finance.yahoo.com/news/bitcoin-slips-below-27k-might-192730902.html&sa=U&ved=2ahUKEwjWv_aI5dGBAxWhJrkGHYeUC-sQxfQBegQIAhAC&usg=AOvVaw3QY2OuQLiJr429YddLfVqC',\n",
       "  '/url?q=https://finance.yahoo.com/news/btc-digital-ltd-change-ticker-123000472.html&sa=U&ved=2ahUKEwjWv_aI5dGBAxWhJrkGHYeUC-sQxfQBegQIAxAC&usg=AOvVaw17AVu70sJYAmM-U3PNQe_R',\n",
       "  '/url?q=https://uk.finance.yahoo.com/news/bitcoin-price-spot-bitcoin-etf-blackrock-fideility-ark-invest-100608842.html&sa=U&ved=2ahUKEwjWv_aI5dGBAxWhJrkGHYeUC-sQxfQBegQIBhAC&usg=AOvVaw2oSb60w46mXt8CKO18bkvt',\n",
       "  '/url?q=https://finance.yahoo.com/video/bitcoin-nio-rite-aid-top-172706782.html&sa=U&ved=2ahUKEwjWv_aI5dGBAxWhJrkGHYeUC-sQxfQBegQIBxAC&usg=AOvVaw22bHUw3L9NTXt38g2n6cl5',\n",
       "  '/url?q=https://finance.yahoo.com/news/bitcoins-implied-volatility-gauge-tops-081331922.html&sa=U&ved=2ahUKEwjWv_aI5dGBAxWhJrkGHYeUC-sQxfQBegQICBAC&usg=AOvVaw2ej4iLv1o6z1oVyANKi3YX',\n",
       "  '/url?q=https://finance.yahoo.com/news/bitcoin-price-struggles-near-26-180400615.html&sa=U&ved=2ahUKEwjWv_aI5dGBAxWhJrkGHYeUC-sQxfQBegQIABAC&usg=AOvVaw0fuY-qxnp8-jRMLq1WUvb6',\n",
       "  '/search?q=yahoo+finance+BTC&sca_esv=569660528&ie=UTF-8&tbm=nws&ei=QMsXZdafEaHN5OUPh6mu2A4&start=10&sa=N',\n",
       "  '/url?q=https://support.google.com/websearch%3Fp%3Dws_settings_location%26hl%3Den-IN&opi=89978449&sa=U&ved=0ahUKEwjWv_aI5dGBAxWhJrkGHYeUC-sQty4IUw&usg=AOvVaw1p8qqMCvdTlWyCdCJwzRJV',\n",
       "  '/url?q=https://accounts.google.com/ServiceLogin%3Fcontinue%3Dhttps://www.google.com/search%253Fq%253Dyahoo%252Bfinance%252BBTC%2526sca_esv%253D569660528%2526tbm%253Dnws%26hl%3Den&opi=89978449&sa=U&ved=0ahUKEwjWv_aI5dGBAxWhJrkGHYeUC-sQxs8CCFQ&usg=AOvVaw2JNbo6J-8jFBTlAmJoZoOd',\n",
       "  'https://www.google.com/preferences?hl=en-IN&fg=1&sa=X&ved=0ahUKEwjWv_aI5dGBAxWhJrkGHYeUC-sQ5fUCCFU',\n",
       "  'https://policies.google.com/privacy?hl=en-IN&fg=1',\n",
       "  'https://policies.google.com/terms?hl=en-IN&fg=1',\n",
       "  '/setprefs?hl=en&prev=https://www.google.com/search?q%3Dyahoo%2Bfinance%2BBTC%26sca_esv%3D569660528%26tbm%3Dnws%26pccc%3D1&sig=0_Un36SjJPwLA9ohbK35MuirJXNPo%3D&cs=2&sa=X&ved=0ahUKEwjWv_aI5dGBAxWhJrkGHYeUC-sQjcAJCFY']}"
      ]
     },
     "execution_count": 17,
     "metadata": {},
     "output_type": "execute_result"
    }
   ],
   "source": [
    "raw_urls={ticker:search_for_stock_news_urls(ticker) for ticker in monitored_tickers}\n",
    "raw_urls"
   ]
  },
  {
   "cell_type": "code",
   "execution_count": 20,
   "id": "b6e5ca6f-cfea-4006-892d-9f150ad8bbd0",
   "metadata": {
    "tags": []
   },
   "outputs": [
    {
     "data": {
      "text/plain": [
       "'/?sa=X&ved=0ahUKEwjfn7KI5dGBAxWtFLkGHWR2C0MQOwgC'"
      ]
     },
     "execution_count": 20,
     "metadata": {},
     "output_type": "execute_result"
    }
   ],
   "source": [
    "raw_urls[\"TSLA\"][0]"
   ]
  },
  {
   "cell_type": "markdown",
   "id": "4b03bd8d-9a73-44f4-baf2-12092c5f729f",
   "metadata": {},
   "source": [
    "## Strip out unwanted URLs"
   ]
  },
  {
   "cell_type": "code",
   "execution_count": 35,
   "id": "37dfae1b-10ba-4f48-bfb1-d453ae3a3f4c",
   "metadata": {
    "tags": []
   },
   "outputs": [],
   "source": [
    "import re"
   ]
  },
  {
   "cell_type": "code",
   "execution_count": 36,
   "id": "fd749fbc-e64c-42d0-8907-0e1ffd89b8b1",
   "metadata": {
    "tags": []
   },
   "outputs": [],
   "source": [
    "exclude_list=['maps','policies','preferences','accounts','support']"
   ]
  },
  {
   "cell_type": "code",
   "execution_count": 47,
   "id": "2b46e72e-a4c6-45bf-9842-633dfa5e578a",
   "metadata": {
    "tags": []
   },
   "outputs": [],
   "source": [
    "def strip_unwanted_urls(urls,exclude_list):\n",
    "    val=[]\n",
    "    for url in urls:\n",
    "        if 'https://' in url and not any(exclude_word in url for exclude_word in exclude_list):\n",
    "            res=re.findall(r'(https?://\\S+)',url)[0].split('&')[0]\n",
    "            val.append(res)\n",
    "    return list(set(val))"
   ]
  },
  {
   "cell_type": "code",
   "execution_count": 48,
   "id": "8e295aa0-1c47-4acc-8a0e-fc2b9b3ff5cb",
   "metadata": {
    "tags": []
   },
   "outputs": [],
   "source": [
    "cleaned_urls={ticker:strip_unwanted_urls(raw_urls[ticker],exclude_list) for ticker in monitored_tickers}"
   ]
  },
  {
   "cell_type": "code",
   "execution_count": 49,
   "id": "0f1a0f41-ef79-4466-898e-e7bd4f83b968",
   "metadata": {
    "tags": []
   },
   "outputs": [
    {
     "data": {
      "text/plain": [
       "{'GME': ['https://www.barrons.com/articles/gamestop-stock-price-ryan-cohen-aa31dd8b',\n",
       "  'https://www.marketwatch.com/story/gamestop-stock-soars-after-ryan-cohen-named-ceo-b37f71be',\n",
       "  'https://qz.com/emails/daily-brief/1850885687/memeing-to-the-top',\n",
       "  'https://www.cnbc.com/2023/09/28/gamestop-names-ryan-cohen-as-ceo-effective-immediately.html',\n",
       "  'https://www.forbes.com/sites/maryroeloffs/2023/09/28/billionaire-chair-ryan-cohen-named-gamestop-ceo-years-after-meme-stock-surge/',\n",
       "  'https://seekingalpha.com/news/4016093-biggest-stock-movers-today-peloton-micron-technology-and-more',\n",
       "  'https://www.google.com/search?q%3Dyahoo%2Bfinance%2BGME%26sca_esv%3D569660528%26tbm%3Dnws%26pccc%3D1',\n",
       "  'https://www.daijiworld.com/news/newsDisplay%3FnewsID%3D1125375',\n",
       "  'https://www.moneycontrol.com/news/trends/gamestop-ceo-ryan-cohen-will-get-zero-salary-his-email-to-staff-11449581.html',\n",
       "  'https://www.thestreet.com/memestocks/gme/gamestop-stock-danger-ahead-for-short-sellers',\n",
       "  'https://www.news18.com/viral/american-gaming-company-appoints-new-ceo-but-wont-pay-him-any-salary-8597177.html'],\n",
       " 'TSLA': ['https://www.cnbc.com/2023/09/29/stocks-making-the-biggest-moves-midday-tsla-nke-ccl-nvda.html',\n",
       "  'https://www.latestly.com/socially/technology/x-recruitment-feature-elon-musk-shares-early-stage-of-new-job-recruiment-platform-5450623.html',\n",
       "  'https://www.livemint.com/market/live-blog/tesla-stock-price-live-updates-check-all-the-latest-updates-and-share-price-for-tesla-stock-on-29-sep-2023-11695993420506.html',\n",
       "  'https://uk.finance.yahoo.com/news/tesla-amd-jd-sport-severn-trent-trending-tickers-121718397.html',\n",
       "  'https://finbold.com/chatgpt-predicts-tesla-stock-price-after-cybertruck-launch/',\n",
       "  'https://www.wsj.com/finance/stocks/how-much-is-tesla-worth-you-decide-78b25ab1',\n",
       "  'https://www.google.com/search?q%3Dyahoo%2Bfinance%2BTSLA%26sca_esv%3D569660528%26tbm%3Dnws%26pccc%3D1',\n",
       "  'https://www.barrons.com/articles/tesla-stock-price-deliveries-d066a8a3',\n",
       "  'https://www.investors.com/market-trend/stock-market-today/dow-jones-rises-as-inflation-steps-closer-to-fed-target-tesla-rises-ahead-of-deliveries/',\n",
       "  'https://markets.businessinsider.com/news/stocks/tesla-stock-price-target-deutsche-bank-deliveries-production-outlook-ev-2023-9',\n",
       "  'https://www.fool.com/investing/2023/09/29/1-ev-stock-to-buy-hand-over-fist-right-now-hint-it/'],\n",
       " 'BTC': ['https://finance.yahoo.com/news/bitcoin-price-climbs-3-us-164800533.html',\n",
       "  'https://finance.yahoo.com/news/bitcoin-tops-27k-rates-oil-191951661.html',\n",
       "  'https://finance.yahoo.com/news/bitcoin-ether-edge-wall-street-021354224.html',\n",
       "  'https://finance.yahoo.com/news/bitcoins-implied-volatility-gauge-tops-081331922.html',\n",
       "  'https://finance.yahoo.com/news/bitcoin-slips-below-27k-might-192730902.html',\n",
       "  'https://finance.yahoo.com/news/btc-digital-ltd-change-ticker-123000472.html',\n",
       "  'https://www.google.com/search?q%3Dyahoo%2Bfinance%2BBTC%26sca_esv%3D569660528%26tbm%3Dnws%26pccc%3D1',\n",
       "  'https://finance.yahoo.com/news/integrated-ventures-reports-3-862-140000828.html',\n",
       "  'https://finance.yahoo.com/video/bitcoin-nio-rite-aid-top-172706782.html',\n",
       "  'https://finance.yahoo.com/news/bitcoin-price-struggles-near-26-180400615.html',\n",
       "  'https://uk.finance.yahoo.com/news/bitcoin-price-spot-bitcoin-etf-blackrock-fideility-ark-invest-100608842.html']}"
      ]
     },
     "execution_count": 49,
     "metadata": {},
     "output_type": "execute_result"
    }
   ],
   "source": [
    "cleaned_urls"
   ]
  },
  {
   "cell_type": "markdown",
   "id": "c8ad823d-61a1-4f40-bdb9-9e2a72d61b80",
   "metadata": {},
   "source": [
    "## Search and Scrape Cleaned Urls "
   ]
  },
  {
   "cell_type": "code",
   "execution_count": 63,
   "id": "e761bb03-4caa-4ac9-aa1a-697e34793bd1",
   "metadata": {
    "tags": []
   },
   "outputs": [],
   "source": [
    "def scrape_and_search(urls):\n",
    "    ARTICLES=[]\n",
    "    for url in urls:\n",
    "        r=requests.get(url)\n",
    "        soup=BeautifulSoup(r.text,'html.parser')\n",
    "        paragraphs=soup.find_all('p')\n",
    "        text=[paragraph.text for paragraph in paragraphs]\n",
    "        words=' '.join(text).split(' ')[:300]\n",
    "        ARTICLE=\" \".join(words)\n",
    "        ARTICLES.append(ARTICLE)\n",
    "    return ARTICLES"
   ]
  },
  {
   "cell_type": "code",
   "execution_count": 64,
   "id": "f2264b8e-3888-4d04-b81d-05f5e55b6f6e",
   "metadata": {
    "tags": []
   },
   "outputs": [
    {
     "data": {
      "text/plain": [
       "{'GME': [\"That content doesn't seem to exist... have you tried going to the home page, or exploring an interest? Meanwhile, here are some important items you'll want to know:\",\n",
       "  \"Shares of GameStop Corp. surged Thursday, after the consumer electronics retailer named Ryan Cohen as its president and chief executive officer, effective immediately. The move, which wasn’t unexpected, comes a few months after the company fired then-CEO Matthew Furlong, and elected activist investor Ryan Cohen as executive chairman. At that time, Cohen said in a tweet, “Not for long.” Cohen will relinquish his role as executive chairman when he is also appointed chairman. GameStop’s stock GME shot up 7% in premarket trading, putting it on track to open at a three-week high. Read: Ryan Cohen becomes GameStop CEO and social media reacts: ‘Changing the paradigm on Wall Street.’ Cohen, who previously founded and was CEO Chewy Inc. \\n        CHWY,\\n        -0.05%,\\n       is the manager of RC Ventures, which in June disclosed a 36.85 million-share, or 12.1% stake in GameStop. “In connection with his appointment, Mr. Cohen will assume the role of principal executive officer from Mark H. Robinson effective immediately and his responsibilities will include the oversight of all other executive officers, including Mr. Robinson,” the company said in a statement. The company said Cohen will not receive any compensation for his roles as president, CEO and chairman, and will “continue to engage in various business activities and pursuits outside of the company.” GameStop’s stock, which was one of the original “meme” stocks, has tumbled 37.2% over the past 12 months through Wednesday, while the S&P 500 index \\n        GME,\\n        -2.26%\\n       has gained 14.9%. Also read: GameStop and AMC fundamental filings ‘remain concerning,’ analyst says.   Portnoy's newly acquired island\",\n",
       "  'Good morning, Quartz readers! GameStop named the “meme stock king” its new CEO. Billionaire Ryan Cohen, who sparked a buying frenzy in the company’s stock in 2021, is taking charge of the video game retailer. Tesla was sued by the US Equal Employment Opportunity Commission for racial harassment. The suit alleges that Black employees faced a racist and hostile work environment and were retaliated against after speaking up. A judge upheld an $18 per hour minimum wage for New York City’s delivery workers. Uber, DoorDash, and GrubHub had appealed the new pay standard in July in an attempt to block it. The US is offering $5 million to track down the assassins of the Ecuadorian presidential candidate Fernando Villavicencio. The former legislator and journalist, who campaigned against corruption, was fatally shot in August. Pregnancy and pharmaceutical costs aside, women in the US still spend $15 billion more per year than men on out-of-pocket healthcare costs: As Quartz’s Clarisa Diaz explains, the financial discrepancy is only intensified by persistent gender wage gaps in the US. The onus then is on businesses to work with insurance companies to address the disparity. Across the pond, hundreds of Indian nurses flocked to the UK after the covid pandemic to fill a care worker shortage, hoping to go on to work in the country’s National Health Service. But brokers and placement agencies have been ripping them off and exploiting them. Quartz’s Samanth Subramanian tells the story of one migrant nurse, Maria, as part of our new series Merchants of Care, published with support from the Pulitzer Center and in partnership with Type Investigations. Read why Maria’s experience left her wondering if she should have ever left India for the UK. “When you’re a dentist, you don’t get one degree and then just stay a dentist',\n",
       "  'Credit Cards Loans Banking Mortgages Insurance Credit Monitoring Personal Finance Small Business Taxes Help for Low Credit Scores Investing SELECT All Credit Cards Find the Credit Card for You Best Credit Cards Best Rewards Credit Cards Best Travel Credit Cards Best 0% APR Credit Cards Best Balance Transfer Credit Cards Best Cash Back Credit Cards Best Credit Card Welcome Bonuses Best Credit Cards to Build Credit SELECT All Loans Find the Best Personal Loan for You Best Personal Loans Best Debt Consolidation Loans Best Loans to Refinance Credit Card Debt Best Loans with Fast Funding Best Small Personal Loans Best Large Personal Loans Best Personal Loans to Apply Online Best Student Loan Refinance SELECT All Banking Find the Savings Account for You Best High Yield Savings Accounts Best Big Bank Savings Accounts Best Big Bank Checking Accounts Best No Fee Checking Accounts No Overdraft Fee Checking Accounts Best Checking Account Bonuses Best Money Market Accounts Best CDs Best Credit Unions SELECT All Mortgages Best Mortgages Best Mortgages for Small Down Payment Best Mortgages for No Down Payment Best Mortgages with No Origination Fee Best Mortgages for Average Credit Score Adjustable Rate Mortgages Affording a Mortgage SELECT All Insurance Best Life Insurance Best Homeowners Insurance Best Renters Insurance Best Car Insurance Travel Insurance SELECT All Credit Monitoring Best Credit Monitoring Services Best Identity Theft Protection How to Boost Your Credit Score Credit Repair Services SELECT All Personal Finance Best Budgeting Apps Best Expense Tracker Apps Best Money Transfer Apps Best Resale Apps and Sites Buy Now Pay Later (BNPL) Apps Best Debt Relief SELECT All Small Business Best Small Business Savings Accounts Best Small Business Checking Accounts Best Credit Cards for Small Business Best Small Business Loans Best Tax Software for Small Business SELECT All Taxes Best Tax Software Best Tax',\n",
       "  \"Ryan Cohen—GameStop's largest investor and board chairman—was named the company's CEO Thursday, the latest in a revolving door of leaders that have come and gone since GameStop was targeted as a meme stock in January 2021. GameStop branch in Munich, Germany on November 23, 2021.  Billionaire Cohen, founder of the Chewy online pet supply store, will serve as CEO in addition to his other roles, the Texas-based company said Thursday, but won’t be compensated for the job. Cohen is the third CEO to take the helm of GameStop in the last two years, replacing former Amazon executive Matt Furlong, and the company has run through as many CFOs since 2019. GameStop has been struggling since the mid-2010s, when online gaming and sales started to surpass brick-and-mortar shopping for video games, and investors have pinned their hopes to turn the retailer around on Cohen's plan to modernize. Gamestop Corp. shares spiked just under 3% minutes after the opening bell Thursday on the news of the announcement. GameStop stock soared more than 1,500% in 2021 after Reddit traders coordinated a massive surge in the stock's price. Small-time market watchers encouraged thousands of people online to buy GameStop after a handful of Wall Street firms had shorted the stock, betting it would fail. When the stock started rising sharply, those same short-sellers were forced to close their bets against the company at hefty losses. A few investors with no formal education in finance or experience to speak of on the stock market became overnight millionaires, including small business execs, an engineer, a purchasing manager for an auto-parts retailer and a professional baseball hopeful. Cohen’s net worth was also inflated—-his holding company RC Ventures bought a nearly 13% stake in GameStop in 2020, just before the stock surged, and his plans to turn\",\n",
       "  \"champc Stock futures inched higher on Thursday after mixed economic data, but sentiment was impacted by bond yield surges and oil price increase, amid concerns over interest rates and inflation. Here are some of Thursday's biggest stock movers: Jabil (NYSE:JBL) soared above 13% following mixed Q4 results. The company anticipates Q1 core EPS between $2.40 and $2.80 vs. the consensus of $2.35. The company increased its share repurchase authorization to $2.5B. The shares of GameStop (NYSE:GME) rose over 7% after the board elected billionaire activist investor Ryan Cohen as CEO, effective immediately. The change comes three months after former CEO Matthew Furlong left. Peloton (NASDAQ:PTON) surged 14% after the announcement of a five-year partnership with Lululemon that could change the exercise equipment and services landscape dramatically. Starting October 11, co-branded apparel across Lululemonâ\\x80\\x99s (NASDAQ:LULU) product lines will be available for purchase at Peloton retail stores and online in the U.S., U.K., and Canada. Starting November 1, Lululemon Studio All-Access Members will have access to thousands of Peloton classes for the same price they pay today. Exclusive Peloton content will also be available to those who sign up for Lululemon's free Essential membership program. CarMax (NYSE:KMX) shares fell more than 9% on mixed Q2 results, with net revenues down 13%, retail used unit sales down 7.4%, and wholesale car unit sales down 11.2%. Despite strong Q4 results, shares of Micron Technology (NASDAQ:MU) slipped over 5% on soft guidance. The company expects Q1 sales between $4.2B and $4.6B, with the midpoint above the $4.21B that analysts had expected, and an adjusted EPS loss between $1 and $1.14 per share, compared to analyst expectations of an adjusted loss of $0.96. Workday (NASDAQ:WDAY) shares fell 9% after the cloud software firm reduced its projection for yearly subscription revenue growth over the next three years\",\n",
       "  '© 2023 - Privacy - Terms',\n",
       "  'Oops! It looks like nothing was found at this location. Maybe try another link or a search?\\n                         \\n                            Daijiworld Residency,\\n                            Airport Road, Bondel Post,\\n                            Mangalore - 575 008\\n                            Karnataka India\\n                            Telephone : +91-824-2982023.\\n                            General Enquiry: office@daijiworld.com,\\n                            News & Info : news@daijiworld.com\\n                         \\n                     ',\n",
       "  \"My Account Follow us on: Powered By  Find & Invest in bonds issued by top corporates, PSU Banks, NBFCs, and much more. Invest as low as 10,000 and earn better returns than FD Invest Now Powered By  Unlock Your Trading Potential: Trade like Experts with SEBI registered creators, Learn from Courses & Webinars by India's Finest Finance Experts. Invest Now  AMBAREESH BALIGA Fundamental, Stock Ideas, Multibaggers & Insights Subscribe CK NARAYAN Stock & Index F&O Trading Calls & Market Analysis Subscribe SUDARSHAN SUKHANI Technical Call, Trading Calls & Insights Subscribe T GNANASEKAR Commodity Trading Calls & Market Analysis Subscribe MECKLAI FINANCIALS Currency Derivatives Trading Calls & Insights Subscribe SHUBHAM AGARWAL Options Trading Advice and Market Analysis Subscribe MARKET SMITH INDIA Model portfolios, Investment Ideas, Guru Screens and Much More Subscribe TraderSmith Proprietary system driven Rule Based Trading calls Subscribe   Curated markets data, exclusive trading recommendations, Independent equity analysis & actionable investment ideas Subscribe Curated markets data, exclusive trading recommendations, Independent equity analysis & actionable investment ideas Explore STOCK REPORTS BY THOMSON REUTERS Details stock report and investment recommendation Subscribe POWER YOUR TRADE Technical and Commodity Calls Subscribe INVESTMENT WATCH Set price, volume and news alerts Subscribe STOCKAXIS EMERGING MARKET LEADERS 15-20 High Growth Stocks primed for price jumps Subscribe GameStop announced Thursday that billionaire Ryan Cohen will take over as the chief executive, chairman and president of the video game retailer effective immediately – and he will not draw a salary. “Mr Cohen will not receive compensation for serving as the Company’s President, Chief Executive Officer and Chairman,” GameStop said in a press release. Ryan Cohen is a Canadian entrepreneur and activist investor who is already GameStop’s executive chairman and biggest shareholder. His firm RC Ventures has a 12.09% stake in the American video game,\",\n",
       "  'Please enable JS and disable any ad blocker',\n",
       "  'Curated By:  Buzz Staff Trending Desk Last Updated: September 29, 2023, 17:24 IST Delhi, India Ryan Cohen addressed GameStop employees through a memo. (Representative Image) American video game, consumer electronics, and gaming merchandise retailer, GameStop, has recently made a significant announcement regarding its leadership, revealing that Ryan Cohen, a billionaire known for his activist investing and as the founder of the direct-to-consumer pet supply retailer Chewy, will assume the roles of President, Chief Executive Officer (CEO) and Chairman effective immediately. Notably, Cohen will not be receiving any form of compensation for his service in these key positions, as stated in a press release issued by GameStop. Ryan Cohen, who had previously held the position of Executive Chair at GameStop, brings substantial experience and influence to the company. As of late June, his firm, RC Ventures, held the largest stake in the Texas headquartered company, with an ownership interest of 12.09%, according to data from FactSet. Forbes estimates Ryan Cohen’s personal net worth to be approximately $3.2 billion (approx. rupees 302 crores), underscoring his significant financial standing and influence in the business world. Shortly after his appointment as CEO, Ryan Cohen addressed GameStop employees through a memo, underlining his commitment to implementing significant measures to ensure the company’s survival. He emphasised the necessity of addressing the company’s financial challenges and the importance of adapting to changing market conditions. As reported by CNBC, Cohen’s email said, “Prospering in retail means survival. If we survive, we stay in the game. Survival is avoiding the deadly sins that often lead retailers to self-destruct. This is usually a result of the following – buying bad inventory, using leverage, and running expenses too high. By avoiding these self-inflicted mistakes and focusing on the basics, GameStop can be here for a long time. I expect everyone'],\n",
       " 'TSLA': ['Credit Cards Loans Banking Mortgages Insurance Credit Monitoring Personal Finance Small Business Taxes Help for Low Credit Scores Investing SELECT All Credit Cards Find the Credit Card for You Best Credit Cards Best Rewards Credit Cards Best Travel Credit Cards Best 0% APR Credit Cards Best Balance Transfer Credit Cards Best Cash Back Credit Cards Best Credit Card Welcome Bonuses Best Credit Cards to Build Credit SELECT All Loans Find the Best Personal Loan for You Best Personal Loans Best Debt Consolidation Loans Best Loans to Refinance Credit Card Debt Best Loans with Fast Funding Best Small Personal Loans Best Large Personal Loans Best Personal Loans to Apply Online Best Student Loan Refinance SELECT All Banking Find the Savings Account for You Best High Yield Savings Accounts Best Big Bank Savings Accounts Best Big Bank Checking Accounts Best No Fee Checking Accounts No Overdraft Fee Checking Accounts Best Checking Account Bonuses Best Money Market Accounts Best CDs Best Credit Unions SELECT All Mortgages Best Mortgages Best Mortgages for Small Down Payment Best Mortgages for No Down Payment Best Mortgages with No Origination Fee Best Mortgages for Average Credit Score Adjustable Rate Mortgages Affording a Mortgage SELECT All Insurance Best Life Insurance Best Homeowners Insurance Best Renters Insurance Best Car Insurance Travel Insurance SELECT All Credit Monitoring Best Credit Monitoring Services Best Identity Theft Protection How to Boost Your Credit Score Credit Repair Services SELECT All Personal Finance Best Budgeting Apps Best Expense Tracker Apps Best Money Transfer Apps Best Resale Apps and Sites Buy Now Pay Later (BNPL) Apps Best Debt Relief SELECT All Small Business Best Small Business Savings Accounts Best Small Business Checking Accounts Best Credit Cards for Small Business Best Small Business Loans Best Tax Software for Small Business SELECT All Taxes Best Tax Software Best Tax',\n",
       "  'Elon Musk-Owned Tesla Automotive Company\\xa0shares screenshots of\\xa0hiring candidates for different roles on X platform (formerly Twitter). The candidates can check the roles on the official profiles of Tesla North America, Tesla AI, Tesla, or any other company for getting recruited. Elon Musk reacted\\xa0on\\xa0Tesla\\'s post on X saying, \"Early stages of the X recruiting platform,\" confirming the new feature of the micro-blogging platform . X announced the new hiring feature by unveiling its Beta version a few months ago. Now, the \\'X Recruiting Platform\\' becomes real as the Musk-Owned Tesla confirms a new X Recruitment feature.\\xa0Elon Musk Goes Live From Eagle Pass to Give People ‘Unfiltered’ View of Surge in \\'Illegal\\' Immigration Via US-Mexico Border (Watch Videos).  Early Stages Of The X recruiting platform (Watch Pics):    Early stages of the X recruiting platform https://t.co/LIsKH2NZxG — Elon Musk (@elonmusk) September 28, 2023(SocialLY brings you all the latest breaking news, viral trends and information from social media world, including Twitter, Instagram and Youtube. The above post is embeded directly from the user\\'s social media account and LatestLY Staff may not have modified or edited the content body. The views and facts appearing in the social media post do not reflect the opinions of LatestLY, also LatestLY does not assume any responsibility or liability for the same.) \\n\\n\\n\\n\\n\\n\\n\\n\\n\\n\\n Early stages of the X recruiting platform https://t.co/LIsKH2NZxG  — Elon Musk (@elonmusk) September 28, 2023 (SocialLY brings you all the latest breaking news, viral trends and information from social media world, including Twitter, Instagram and Youtube. The above post is embeded directly from the user\\'s social media account and LatestLY Staff may not have modified or edited the content body. The views and facts appearing in the social media post do not reflect the opinions of LatestLY, also LatestLY does not',\n",
       "  \"TESLA Stock Price Live Updates: On the last day of trading, Tesla's stock opened at $240.19 and closed at $246.67. The stock reached a high of $247.52 during the day and a low of $238.71.  During today's session, the opening price of TESLA was $250.00, and the closing price was $250.25. The stock had a high of $254.76 and a low of $246.36.   During today's session, the opening price of TESLA was $250.00, and the closing price was $250.25. The stock had a high of $254.76 and a low of $246.36.   TESLA currently priced at $250.16 has provided a return of +103.35% in this calendar year   TESLA currently priced at $250.16 has provided a return of +103.35% in this calendar year   As of the current data, the stock price of Tesla is $249.91. This means that one share of Tesla is currently trading at this price in the stock market. It is important to note that stock prices can fluctuate throughout the day as a result of various market factors and investor sentiment. Therefore, the price may change by the time this summary is read.   As of the current data, the stock price of Tesla is $249.91. This means that one share of Tesla is currently trading at this price in the stock market. It is important to note that stock prices can fluctuate throughout the day as a result of various market factors and investor sentiment. Therefore, the price may change by the time this summary is read.  In the hour ended 30-Sep-2023 01:05, TESLA stock had an opening price of 250.38 and reached a high of 250.59. The lowest point it reached during this hour was 249.32, and it closed at 249.59.  As of the\",\n",
       "  \"Tesla looked set to open 1.6% higher when trading starts in the US later today, despite reports that it may miss its targets for third-quarter deliveries. Planned factory shutdowns and soft demand has led to it giving more discounts. Factories in Europe and China had experienced downtime in order to prep production lines for the Model 3 sedan and the Cybertruck. Confidence in Tesla has been bolstered by the retooling, which may help power its fourth quarter, according to brokerages including Barclays, Baird and Guggenheim. Analysts estimate Tesla will hand over between 439,200 and 455,000 vehicles in the September quarter, whereas Wall Street had expected 458,713 vehicles. Read more: UK economy grows by 0.2% in second quarter Chipmaker AMD's stock finished 4.8% higher on Thursday, and looked set to continue its ascent on Friday, after Microsoft CTO Kevin Scott said AMD’s graphics cards will be increasingly critical to tech businesses. Chipmakers have become the darling of tech stocks this year as companies vie to dominate in AI and processes that require more computing power. Incumbent chip heavyweight Nvidia's stock has almost tripled this year. “They’re making increasingly compelling GPU offerings that I think are going to become more and more important to the marketplace in the coming years,” Kevin Scott, Microsoft’s chief technology officer, said of AMD's product at the Code Conference in Dana Point, California, on Wednesday. It has previously been reported that Microsoft and AMD are working together on a new AI chip. JD Sports is among top risers in the FTSE this morning, up 5.6%, apparently on the back of stellar results from sports brand Nike, which reported after the closing bell on Thursday. Nike's revenue for Q1 was up 2% to $12.9bn from $12.7bn the year prior, but net income of $1.5bn was down 1%. JD\",\n",
       "  'Following the launch of ChatGPT, the text-based artificial intelligence (AI) chatbot by OpenAI, more platforms have emerged, and the technology has already proven its use in analyzing the trends in various markets, including the stock price of Tesla (NASDAQ: TSLA). Indeed, Finbold has consulted ChatGPT for insights as millions of people await the delivery event for Tesla’s Cybertruck that is supposed to take place in September, as announced by Tesla CEO Elon Musk, who back in April said that the “Cybertruck handover [would] hopefully be around the end of Q3 this year.” Although ChatGPT refused to give any specific figures, it did stress that the launch of the Cybertruck could have a positive effect on the TSLA price, particularly in regard to the short-term hype, which is commonly responsible for bringing up stock prices shortly after the influential event. As the AI chatbot noted: “This could be driven by increased media coverage, heightened interest from investors, and overall excitement surrounding the event. Depending on the level of hype and speculation, the stock price might experience a moderate to significant short-term increase.” That said, ChatGPT has also highlighted that the impact of the Cybertruck on Tesla’s stock price over the longer term would depend on its actual sales performance and contribution to the electric vehicle (EV) manufacturer’s revenue: “If the Cybertruck proves to be a best-seller and significantly boosts Tesla’s bottom line, it could have a positive impact on the stock price over time. Conversely, if sales disappoint, it could lead to concerns among investors.” As the bot also correctly observed, the Cybertruck could help Tesla gain a stronger foothold in segments like pickup trucks, which might lead to a “more favorable long-term outlook for the company, potentially impacting the stock price positively.” As things stand, the price of the TSLA',\n",
       "  'WSJ Membership Customer Service Tools & Features Ads More Dow Jones Products',\n",
       "  '© 2023 - Privacy - Terms',\n",
       "  \"That content doesn't seem to exist... have you tried going to the home page, or exploring an interest? Meanwhile, here are some important items you'll want to know:\",\n",
       "  '\\n                Access to this page has been denied because we believe you are using automation tools to browse the\\n                website.\\n             \\n                This may happen as a result of the following:\\n             \\n                Please make sure that Javascript and cookies are enabled on your browser and that you are not blocking\\n                them from loading.\\n             \\n                Reference ID: #11ba7b33-5f68-11ee-bf5c-c58d44fcf595\\n             \\n                Powered by\\n                PerimeterX\\n                , Inc.\\n            ',\n",
       "  'Jump to        Deutsche Bank Wednesday downgraded its price target for Tesla stock, warning that the electric vehicle maker\\'s earnings face strong headwinds in 2024.\\xa0 The bank reiterated its buy rating for the stock but trimmed its price target for Tesla stock to $285 a share, representing a 5% decrease from its previous $300 target. That\\'s largely due to the muted outlook for production over the next year.\\xa0 The bank predicted Tesla would report deliveries of 440,000 units in the third quarter, lower than estimates of 455,000 units. That could result in lower quarterly revenue than the bank previously estimated, at $23.3 billion, down from $24.1 billion. Meanwhile, the bank said earnings per share could fall to $0.71, down from Wall Street\\'s estimates of $0.87 a share.\\xa0 \"Looking at 2024, however, we see considerable downside risk to earnings expectations, due to much lower volume outlook than the market believes,\" the analysts wrote.\\xa0 They noted that Tesla suggested in an investor meeting that it was no longer planning to ramp up production in its Austin and Berlin factories next year to 10,000 units per week. The bank trimmed its 2024 production outlook for Tesla to just 2.1 million units next year, down from the consensus expectation of 2.3 million units. On a positive note, Tesla could face less pricing pressure next year, resulting in a modest price dip of 1% for its cars. The bank sees earnings per share of $3.90 in 2024, lower than consensus estimates of $4.76. Deutsche added that the next-generation vehicle platform will the key to unlocking further growth for Tesla, and that investors are closely watching the roll out of next-gen vehicles.\\xa0 \"Beyond 2024, all eyes remain on Tesla\\'s next-gen platform,\" the analysts wrote. \"However, keeping the timeline to 2025',\n",
       "  \"Founded in 1993, The Motley Fool is a financial services company dedicated to making the world smarter, happier, and richer. The Motley Fool reaches millions of people every month through our premium investing solutions, free guidance and market analysis on Fool.com, top-rated podcasts, and non-profit The Motley Fool Foundation. Founded in 1993, The Motley Fool is a financial services company dedicated to making the world smarter, happier, and richer. The Motley Fool reaches millions of people every month through our premium investing solutions, free guidance and market analysis on Fool.com, top-rated podcasts, and non-profit The Motley Fool Foundation. You’re reading a free article with opinions that may differ from The Motley Fool’s Premium Investing Services. Become a Motley Fool member today to get instant access to our top analyst recommendations, in-depth research, investing resources, and more. Learn More The electric vehicle (EV) market is jam-packed with competitors ranging from younger entrants such as Tesla, Rivian, or Polestar to legacy automakers like Ford looking in new directions. One of the biggest end markets for EVs is China. And while Nio may be one of the most recognizable names among Chinese EV manufacturers, investors may want to learn about one of its peers: BYD (BYDDY 1.73%). BYD recently published its financial results for the first half of 2023, and the company did not disappoint. Still, there are a number of factors that investors should analyze before making an investment in this EV company. In addition to the fiercely competitive landscape, the state of the Chinese economy will be another key variable in the equation whose solution answers the question of whether BYD represents a good buy right now. When it comes to economic matters, it's easy for investors to become fixated on their own country and its specific challenges. In the United\"],\n",
       " 'BTC': [\"NEW YORK, Sept. 29, 2023 /PRNewswire/ -- The\\xa0Bitcoin price is defying macro gloom to put on a 3% gain as it recaptures $27,000, but it is yield-bearing Bitcoin Minetrix ($BTCMTX) that's raised $200,000 and could be the biggest winner. Bitcoin, after briefly slipping below $25k last month and struggling to make headway since peaking at 27,431 on September 19th, is threatening to retake that near-term high. The move higher has been assisted by a confluence of factors and comes despite gathering storm clouds in the stock and bond markets. Also, although equities had a green session on Thursday, it comes on the back of a negative week. The S&P500 has fallen from 4,452 to 4,296, and the Nasdaq Composite slid 500 points, from 13,714 to 13,200. Meanwhile, US 10-Year Treasury yields continue their march higher, now at 4.66%. And then there is US interest rates at 5.25-5.5% despite the Fed pause, making all risk assets look less attractive, plus a surging US dollar to factor in too. Bitcoin teasing that it is a safe haven play after all? Markets worry that US inflation will be stickier than hoped and that a soft landing could be for the birds. The weakening of the narrowly based bullish sentiment that has seen the\\xa0Nasdaq make a 20% advance this year, has been evident for a few weeks now. Fed chairman Jerome Powell's speech\\xa0on Thursday has done little to calm nerves. The past few days have seen the gloom merchants come to the fore as a shutdown of the government looms and the real estate debt crisis deepens in China. But the past few days have seen the gloom merchants come to the fore as a shutdown of the government looms and the real estate debt crisis deepens in China. Against this backdrop, Bitcoin appears\",\n",
       "  'Cryptocurrency markets surged higher Thursday, with the price of bitcoin (BTC) breaking above the $27,000 level alongside easing macro pressures. BTC earlier rose to just shy of $27,300 and was trading at $27,010 at press time, up 3.2% over the past 24 hours. The CoinDesk Market Index (CMI), which measures the performance of a broad basket of crypto assets, was up 3.8%, led by a 5.5% gain for the CoinDesk DeFi Index (DCF). COMP, AAVE and MKR, governance tokens of top DeFi lending platforms Compound, Aave, and Maker, enjoyed 21%, 10% and 5% gains, respectively. LDO, the token of the leading liquid staking platform Lido Finance, jumped nearly 9%. Ethereum scaling network Arbitrum’s ARB posted a 9.6% rally, recovering losses from earlier this month. The crypto advance happened alongside a modest rebound in U.S. stocks as the 10-year Treasury yield pulled back from a 16-year high, oil retreated from a 2023 high and the greenback slipped as well. Read more: Crypto Observers Warn of Risk Aversion as Oil Prices Top $93 Ether (ETH) also outperformed bitcoin, gaining 4.8% to $1,660 as investor hopes rose for a potential U.S. regulatory greenlight for a futures-based exchange-traded fund (ETF). Bloomberg analyst Eric Balchunas said in an X post that the U.S. Securities and Exchange Commission (SEC) reportedly asked ETF filers to update their application to be able to approve and start trading next week because of a looming government shutdown. In addition, VanEck submitted paperwork for its own futures-based ETH ETF, adding to already submitted filings from Grayscale, ProShares and Bitwise, among others. Read more: Buy Ether Instead of Bitcoin to Ride ETF Momentum, Crypto Research Firm Says Crypto derivatives traders brace for Friday’s quarterly and monthly options expiry, when some $4.8 billion worth of BTC and ETH options will expire on key',\n",
       "  'Bitcoin was trading above US$26,300 Thursday morning in Asia after briefly breaching US$26,800 Wednesday evening. Ether also made up some ground, rising above the US$1,600 resistance level before falling back to just below it. Other top 10 non-stablecoin cryptocurrencies traded mixed, with the Open Network’s (TON) Toncoin leading the winners. U.S. stock futures were up after Wall Street closed mixed on Wednesday. Investors are digesting a 16-year high in U.S. 10-year treasury yields as well as a potential debt-driven government shutdown in October. Bitcoin gained 0.56% to US$26,354.64 in the 24 hours to 07:40 a.m. in Hong Kong but still held a weekly loss of 2.87%, according to CoinMarketCap data. The world’s largest cryptocurrency on Wednesday night briefly rose above US$26,800 for the first time in the past seven days, but soon retreated to around US$26,300. The U.S. dollar index (DXY), which measures the greenback against a basket of other major fiat currencies, reached a ten-month high of 106.84 on Thursday. A high DXY has been a bearish signal for cryptos and the S&P 500 alike, blockchain intelligence firm Santiment said Thursday on X (previously Twitter). However, Bitcoin has “held up well” despite the rise in the U.S. dollar. That “may indicate a breakout could come once the DXY settles down,” Santiment added. 💸 The #Dollar has crept up to its highest level since last November. Particularly since 2021, this has been a #bearish signal for #crypto and the #SP500. However, $BTC has held up well, which may indicate a breakout could come once the $DXY settles down. https://t.co/zplpYJjSkf pic.twitter.com/iTyof07MNm — Santiment (@santimentfeed) September 27, 2023 Along with Bitcoin, Ether edged up 0.31% to US$1,597.56 over the past 24 hours but is trading 1.55% lower for the week. The token also hit a seven-day high of US$1,631.91 on Wednesday evening.',\n",
       "  'Bitcoin (BTC) remains the world\\'s biggest and most liquid digital asset. Still, crypto traders are increasingly pricing higher volatility in bitcoin relative to ether (ETH), the second-largest cryptocurrency by market value. The spread between dominant crypto options exchange Deribit\\'s forward-looking 30-day implied volatility index for ether (ETH DVOL) and bitcoin (BTC DVOL) has been consistently negative since Sept. 7, the longest such stretch since Deribit started the DVOL indices in early 2021. In other words, bitcoin\\'s implied volatility (IV) has topped ether for 20 straight days. Implied volatility is an estimate of the price turbulence over a specific period based on options prices. The spread briefly turned negative in March for the first time in nearly two years, reflecting the relative richness of BTC IV. Since then, it has become a norm in a sign of traders not looking beyond macroeconomic issues right now and being less interested in trading alternative cryptocurrencies. Bitcoin has evolved as a macro asset since the coronavirus-induced crash of March 2020, consistently taking cues from the Fed policy, the U.S. fiscal and banking sector developments, and sentiment in traditional markets. Of late, macro risks have piled up in the form of rising U.S. Treasury yields, stagflation risks, a strengthening dollar index, the lingering threat of a U.S. government shutdown and increased prospects of a deflationary crash in China, all denting the appeal of investing in risk assets, like bitcoin. Besides, expectations for a U.S.-based spot bitcoin exchange-traded fund keep traders squarely focused on the leading cryptocurrency. Ether, meanwhile, has fallen out of favor, thanks to Ethereum\\'s dwindling revenue and renewed inflationary tokenomics. That said, ether may see renewed investor interest later this year when the Ethereum Improvement Proposal (EIP)-4844 goes live. The upgrade will introduce \"proto-danksharding,\" to the Ethereum blockchain in a bid to reduce',\n",
       "  'While Bitcoin (BTC) remains on track to end its six-year streak of September losses, a modest pullback ahead of what could be an imminent federal government shutdown could put this month’s advance in jeopardy. The largest crypto by market capitalization changed hands at $26,800 during Friday afternoon hours, posting a 3.2% return this month so far. However, BTC has declined 1.6% from the $27,400 it touched for a short time on Thursday. Extending this weak price action into the weekend could put BTC’s provisional positive monthly return in jeopardy as the crypto began September at just about $26,000. Ether (ETH) traded mostly flat at around $1,660, as market participants anticipate futures-based exchange-traded funds (ETF) to go live early next week. Ripple’s XRP, Solana’s SOL and the Tron network’s native token TRON posted 3%-5% gains, outperforming the broader digital asset market. The CoinDesk Market Index (CMI) was down 0.5%. “The oppressive macro uncertainty is still a major headwind,” Noelle Acheson, macro analyst and author of Crypto Is Macro Now newsletter, noted Friday. “Bond markets around the world are flashing signs of distress, as yields have reached multi-year records in the US, UK, Germany and Japan to name just a few markets.” She added that the looming U.S. government shutdown adds to the uncertainty and noted that the U.S. consumer spending growth in Q2 was revised lower, an indication that consumers might not be that resilient to tightening financial conditions. “As scary as this may sound, during the 21 government shutdowns [in the past] the S&P 500 rose 55% of the time, generating an average return of 0.3%,” advisory firm Asgard Markets wrote in a Friday market report. Digital asset investment firm NYDIG said that the government shutdown could delay regulatory decisions, as the U.S. Securities and Exchange Commission (SEC) staff will',\n",
       "  'SHENZHEN, China, Sept. 28, 2023 /PRNewswire/ -- BTC Digital Ltd. (\" BTC Digital\" or the \"Company\") (NASDAQ: METX), a blockchain technology company, today announced that its ordinary shares and warrants will begin trading on the Nasdaq Stock Market, LLC under the ticker symbols \"BTCT\" and \"BTCTW\", respectively, prior to market open on September 29, 2023. The new ticker symbols will replace the Company\\'s current ticker symbols \"METX\" and \"METXW.\" The new ticker symbols align with the Company\\'s name change from \"Meten Holding Group Ltd.\" to \"BTC Digital Ltd.\" effected since August 18, 2023. No action by the Company\\'s shareholders is required with respect to the ticker symbol change. The Company\\'s ordinary shares and warrants will continue to be listed on the Nasdaq Stock Market and their CUSIP numbers will remain unchanged. About BTC Digital Ltd. BTC Digital Ltd. is a blockchain technology company, with a long-term strategy to create value across the metaverse, blockchain and cryptocurrency mining industry. The Company is committed to developing blockchain related businesses in North America, including cryptocurrency mining, mining farm construction, and mining pool and data center operation. For more information, please visit: https://meten.investorroom.com Safe Harbor Statement This news release contains forward-looking statements within the meaning of Section 21E of the Securities Exchange Act of 1934, as amended, and as defined in the U.S. Private Securities Litigation Reform Act of 1995. These forward-looking statements can be identified by terminology such as \"will\", \"expects\", \"anticipates\", \"future\", \"intends\", \"plans\", \"believes\", \"estimates\", \"target\", \"going forward\", \"outlook\" and similar statements. Such statements are based upon management\\'s current expectations and current market and operating conditions and relate to events that involve known or unknown risks, uncertainties and other factors, all of which are difficult to predict and many of which are beyond the Company\\'s control, which may cause the Company\\'s',\n",
       "  '© 2023 - Privacy - Terms',\n",
       "  'PHILADELPHIA, Sept. 29, 2023 /PRNewswire/ --\\xa0Integrated Ventures Inc. (OTCQB: INTV)\\xa0(\"Company\") is pleased to confirm the filing of Form 10K/Report, after the today\\'s market close, for Financial Period, ending on July 30, 2023. Management Comments And Financial Highlights: BTC Production/Mining Revenues: the Company generated the Total Revenues of $3,862,849.00 (2023) vs $4,871,473.00 (2022). The Company generated 162.71 BTCs, in 2023, vs 108.29 BTCs in 2022. Please note the following details: (1) INTV reported lower revenues, on higher quantity of BTC mined, primarily due to the weakness in cryptocurrency markets, and (2) Average dollar value of BTC mined in 2023 was $23,740.44 vs $44,986.17 in 2022. Total Cash:\\xa0the Company reported the Total Cash on Balance Sheet was $257,998.00. Total Digital Currency:\\xa0on 06/30/2023, the Company\\'s BTC Holdings were valued at $447,424.00. Total Assets:\\xa0the Company reported Total Assets of $6,590,569.00. Total Liabilities:\\xa0the Company reported Total Liabilities of $2,975,451.00. Net Income (Loss):\\xa0The Company reported Net Income Loss of $25,459,967.00 for 2023 vs Net Income Loss of $688,003.00, for 2022. Net Income Loss (2023) is mainly due to the following recorded expenses: (1) Depreciation Expense, in amount of $3,597,346.00, (2) Loss On Disposition Of Mining Equipment, in the amount of $1,197,522.00, (3) Impairment Of Mining Equipment, in the amount of $5,574,363.00 and (4) issuance of annual stock compensation to Management, in the form of Preferred B shares, convertible to restricted common shares, with 12 months holding period, valued, based on 1 x 125 reverse split and booked at market value (dated 06/30/2023) of $15,247,500.00.*Excluding these expenses, Annual Income Loss, would have been $458,736.00. Gross Profit (Loss): The Company reported Gross Loss of $6,297,476.00 for 2023. Increase in cost of revenues is due primarely to an increase in Depreciation Expense, in amount of $3,597,346.00. *Excluding this expense, Annual Gross Profit, would have been $1,162,733.00. Steve Rubakh, CEO',\n",
       "  'Thank you for your patience. Our engineers are working quickly to resolve the issue.',\n",
       "  'NEW YORK, Sept. 26, 2023 /PRNewswire/ -- Crypto traders are asking if the Bitcoin price can pump to $30,000, but new crypto presale Bitcoin Minetrix\\xa0is grabbing the headlines with its revolutionary no-fuss, no-rigs, low-cost stake-to-mine token. As the Bitcoin price holds above $26,000, Bitcoin Minetrix ($BTCMTX) is catching the eye of traders as the first fully decentralized mining solution based on cloud computing, where stakers earn credits they can directly deploy to mine Bitcoin. Traders are no doubt also intrigued by the implications of the stake-to-mine feature because of its potential to alleviate selling pressure at launch, while also incentivizing long-term adoption. Within minutes of the presale opening, more than $100,000 was contributed to the soft cap initial fundraise goal of $15.6 million. There are 10 stages to the presale – from Stage 2 onwards the token price increases 10% at each stage. At this rate the presale could sell out its first stage, in which $3,080,000 is targeted, within a week. There really is no time to lose in locking in the lowest prices. You can stay in touch with the progress of the presale and how much has been staked by following the official X (formerly Twitter) account\\xa0and joining the Telegram\\xa0and Discord groups. https://twitter.com/bitcoinminetrix/status/1706601981790367852 New crypto Bitcoin Minetrix focuses on the two most popular Bitcoin investment themes – mining and staking By combining the popular themes of ERC-20 token staking and Bitcoin mining, Bitcoin Minetrix has struck upon a rich seam with a pitch to market participants that is sure to appeal. There are already 383,179 BTCMTX staked in the Ethereum-based smart contract, according to the desktop dashboard. Rewards for stakers are generated at a rate of 158.5 BTCMTX per ETH block, over a two-year period. The current annual percentage yield (APY) is 108,739%, although this will reduce',\n",
       "  \"Check out these luxurious homes owned by the stars Analysis suggests investors are taking bitcoin off exchanges for long-term holding. In the past month, nearly 18,000 bitcoins, representing a decrease of nearly 1%, have been withdrawn from cryptocurrency exchanges, as per CryptoQuant data. This suggests they want to hold the digital asset because they expect a future price rise. The consensus amongst traders is that prices could rise if one of the spot bitcoin ETF applications that have been filed with the US Securities and Exchange Commission (SEC) is approved. A spot bitcoin exchange traded fund (ETF) is a financial product that investors hope will open the gateway for mainstream capital to flood the crypto market. However, this week US regulators chose to postpone making a decision on more of the ETF filings. This time it involved the highly anticipated ARK 21Shares Bitcoin ETF. On Tuesday the SEC delayed its ruling on the ARK 21Shares Bitcoin ETF, and a similar filing from fund manager Global X. Ark Investment Management and 21Shares have been seeking an ETF approval since 2021. They made their latest spot bitcoin ETF application in April. After the filing, the SEC said it needed more time to rule, setting a deadline for November 11. However, the SEC said on Tuesday it would now take until January 10 to come to a decision on the application. Read more: Institutional investment brings new momentum to crypto The regulator is also giving itself at least another 45 days to make a decision on Global X's proposed bitcoin ETF. These delays signal the SEC could be planning to use the full amount of time it is allowed to decide on each filing. The regulator is allotted 240 days to consider approving spot bitcoin ETF applications. It is not immediately clear whether\"]}"
      ]
     },
     "execution_count": 64,
     "metadata": {},
     "output_type": "execute_result"
    }
   ],
   "source": [
    "articles={ticker:scrape_and_search(cleaned_urls[ticker]) for ticker in monitored_tickers}\n",
    "articles"
   ]
  },
  {
   "cell_type": "markdown",
   "id": "8d182eff-a47d-4b60-92ec-fa06ecc18621",
   "metadata": {},
   "source": [
    "## Summarize all articles "
   ]
  },
  {
   "cell_type": "code",
   "execution_count": 65,
   "id": "10f88e35-e1ed-4e60-ae51-653827edc150",
   "metadata": {
    "tags": []
   },
   "outputs": [],
   "source": [
    "def summarize(articles):\n",
    "    summaries=[]\n",
    "    for article in articles:\n",
    "        input_ids=tokenizer.encode(article,return_tensors='pt')\n",
    "        output=model.generate(input_ids,max_length=55,num_beams=5,early_stopping=True)\n",
    "        summary=tokenizer.decode(output[0],skip_special_tokens=True)\n",
    "        summaries.append(summary)\n",
    "    return summaries"
   ]
  },
  {
   "cell_type": "code",
   "execution_count": 66,
   "id": "69856198-83eb-4929-a89a-a46a4cda4549",
   "metadata": {
    "tags": []
   },
   "outputs": [
    {
     "data": {
      "text/plain": [
       "{'GME': ['Have you tried going to Newsround?',\n",
       "  'Cohen elected as executive chairman of the company in June. Activist investor previously founded and was CEO Chewy',\n",
       "  'A judge upholds minimum wage for New York City delivery workers. Tesla sued for racial harassment, but won’t comment',\n",
       "  'Best Credit Cards for You Best Rewards Credit Cards Best 0% APR Credit Cards Best Balance Transfer Credit Cards',\n",
       "  'Chewy founder to serve as CEO, but won’t be compensated. Video game retailer has had a string of CEO changes since 2021',\n",
       "  'Jabil, Peloton, Workday, Micron slip on mixed results.',\n",
       "  'All images are copyrighted.',\n",
       "  'Mangalore is set to get a new airport.',\n",
       "  'Ryan Cohen to take over as CEO, chairman of the video game retailer.',\n",
       "  '.',\n",
       "  'Ryan Cohen appointed as CEO and Chairman of the company.'],\n",
       " 'TSLA': ['Best Credit Cards for You Best Rewards Credit Cards Best 0% APR Credit Cards Best Balance Transfer Credit Cards',\n",
       "  'Candidates can apply for jobs at Tesla, Tesla AI, or any other company.',\n",
       "  'Tesla currently priced at $250.16 has provided a return of +103.35% in this calendar year.',\n",
       "  'Tesla may miss targets for third-quarter deliveries. AMD’s stock is set to continue its ascent on Friday',\n",
       "  'ChatGPT suggests that Tesla’s Cybertruck could have a positive impact on stock price.',\n",
       "  'Rough Rough cut (no reporter narration)',\n",
       "  'All images are copyrighted.',\n",
       "  'Have you tried going to Newsround?',\n",
       "  'All photographs are copyrighted.',\n",
       "  'Earnings per share could fall to $0.71 in third quarter, bank says.',\n",
       "  'Chinese EV maker BYD recently reported better-than-expected results. State of the Chinese economy will be another key variable in the equation'],\n",
       " 'BTC': ['Yield-bearing Bitcoin Minetrix to be biggest winner after raising $200,000.',\n",
       "  'CoinDesk DeFi Index leads crypto rally with 5.5% gain. LDO, ARB, AAVE, MKR among top gainers',\n",
       "  'The U.S. dollar index reached a 10-month high on Thursday. Ether also made up some ground after hitting a seven-day high on Wednesday',\n",
       "  'Bitcoin-Ether implied volatility spread has been negative for 20 days',\n",
       "  'Largest crypto by market capitalization is up 3.2% in September. Ethereum to go live next week as futures-based ETF planned',\n",
       "  'ordinary shares and warrants will begin trading on Nasdaq under the ticker symbols \"BTCT\" and \"BTCTW\".',\n",
       "  'All images are copyrighted.',\n",
       "  'Revenues were lower due to weakness in cryptocurrency markets. Average dollar value of BTC mined in 2023 was $23,740.44',\n",
       "  'We are aware of the issue and are working to resolve it.',\n",
       "  'New crypto presale offers no-fuss, no-rigs, low-cost stake-to-mine token.',\n",
       "  'Regulator delays decision on ARK 21Shares Bitcoin ETF application.']}"
      ]
     },
     "execution_count": 66,
     "metadata": {},
     "output_type": "execute_result"
    }
   ],
   "source": [
    "summaries={ticker:summarize(articles[ticker]) for ticker in monitored_tickers}\n",
    "summaries"
   ]
  },
  {
   "cell_type": "code",
   "execution_count": 67,
   "id": "c3cee9ec-e509-4e03-a543-38ef1208924a",
   "metadata": {
    "tags": []
   },
   "outputs": [
    {
     "data": {
      "text/plain": [
       "['Yield-bearing Bitcoin Minetrix to be biggest winner after raising $200,000.',\n",
       " 'CoinDesk DeFi Index leads crypto rally with 5.5% gain. LDO, ARB, AAVE, MKR among top gainers',\n",
       " 'The U.S. dollar index reached a 10-month high on Thursday. Ether also made up some ground after hitting a seven-day high on Wednesday',\n",
       " 'Bitcoin-Ether implied volatility spread has been negative for 20 days',\n",
       " 'Largest crypto by market capitalization is up 3.2% in September. Ethereum to go live next week as futures-based ETF planned',\n",
       " 'ordinary shares and warrants will begin trading on Nasdaq under the ticker symbols \"BTCT\" and \"BTCTW\".',\n",
       " 'All images are copyrighted.',\n",
       " 'Revenues were lower due to weakness in cryptocurrency markets. Average dollar value of BTC mined in 2023 was $23,740.44',\n",
       " 'We are aware of the issue and are working to resolve it.',\n",
       " 'New crypto presale offers no-fuss, no-rigs, low-cost stake-to-mine token.',\n",
       " 'Regulator delays decision on ARK 21Shares Bitcoin ETF application.']"
      ]
     },
     "execution_count": 67,
     "metadata": {},
     "output_type": "execute_result"
    }
   ],
   "source": [
    "summaries[\"BTC\"]"
   ]
  },
  {
   "cell_type": "markdown",
   "id": "0b45a3c3-9a9f-4f07-b1db-b386aca007eb",
   "metadata": {},
   "source": [
    "# 5.Adding Sentiment Analysis "
   ]
  },
  {
   "cell_type": "code",
   "execution_count": 68,
   "id": "0c7313b7-aee6-4893-aa66-d07ca5950174",
   "metadata": {
    "tags": []
   },
   "outputs": [
    {
     "name": "stderr",
     "output_type": "stream",
     "text": [
      "No model was supplied, defaulted to distilbert-base-uncased-finetuned-sst-2-english and revision af0f99b (https://huggingface.co/distilbert-base-uncased-finetuned-sst-2-english).\n",
      "Using a pipeline without specifying a model name and revision in production is not recommended.\n",
      "Downloading (…)lve/main/config.json: 100%|████████████████████████████████████████████████████| 629/629 [00:00<?, ?B/s]\n",
      "Downloading model.safetensors: 100%|████████████████████████████████████████████████| 268M/268M [00:32<00:00, 8.13MB/s]\n",
      "Downloading (…)okenizer_config.json: 100%|██████████████████████████████████████████████████| 48.0/48.0 [00:00<?, ?B/s]\n",
      "Downloading (…)solve/main/vocab.txt: 100%|███████████████████████████████████████████| 232k/232k [00:00<00:00, 559kB/s]\n"
     ]
    }
   ],
   "source": [
    "from transformers import pipeline\n",
    "sentiment=pipeline('sentiment-analysis')"
   ]
  },
  {
   "cell_type": "code",
   "execution_count": 69,
   "id": "d7a69934-5981-44ef-9eaa-a9f9c06e5e71",
   "metadata": {
    "tags": []
   },
   "outputs": [
    {
     "data": {
      "text/plain": [
       "[{'label': 'POSITIVE', 'score': 0.994099497795105},\n",
       " {'label': 'POSITIVE', 'score': 0.9606256484985352},\n",
       " {'label': 'POSITIVE', 'score': 0.9810195565223694},\n",
       " {'label': 'NEGATIVE', 'score': 0.9996230602264404},\n",
       " {'label': 'NEGATIVE', 'score': 0.9403278231620789},\n",
       " {'label': 'NEGATIVE', 'score': 0.9920476078987122},\n",
       " {'label': 'NEGATIVE', 'score': 0.9880996346473694},\n",
       " {'label': 'NEGATIVE', 'score': 0.998678982257843},\n",
       " {'label': 'POSITIVE', 'score': 0.9979088306427002},\n",
       " {'label': 'NEGATIVE', 'score': 0.9977009892463684},\n",
       " {'label': 'NEGATIVE', 'score': 0.9968666434288025}]"
      ]
     },
     "execution_count": 69,
     "metadata": {},
     "output_type": "execute_result"
    }
   ],
   "source": [
    "sentiment(summaries[\"BTC\"])"
   ]
  },
  {
   "cell_type": "code",
   "execution_count": 70,
   "id": "12c4c9c9-3afd-440c-b7a2-2c1d54ec12aa",
   "metadata": {
    "tags": []
   },
   "outputs": [
    {
     "data": {
      "text/plain": [
       "{'GME': [{'label': 'NEGATIVE', 'score': 0.9915708303451538},\n",
       "  {'label': 'POSITIVE', 'score': 0.9967880249023438},\n",
       "  {'label': 'NEGATIVE', 'score': 0.6145312190055847},\n",
       "  {'label': 'POSITIVE', 'score': 0.998146653175354},\n",
       "  {'label': 'NEGATIVE', 'score': 0.6854579448699951},\n",
       "  {'label': 'NEGATIVE', 'score': 0.9995985627174377},\n",
       "  {'label': 'NEGATIVE', 'score': 0.9880996346473694},\n",
       "  {'label': 'NEGATIVE', 'score': 0.9141563177108765},\n",
       "  {'label': 'POSITIVE', 'score': 0.996704638004303},\n",
       "  {'label': 'POSITIVE', 'score': 0.9668781757354736},\n",
       "  {'label': 'POSITIVE', 'score': 0.9984606504440308}],\n",
       " 'TSLA': [{'label': 'POSITIVE', 'score': 0.998146653175354},\n",
       "  {'label': 'NEGATIVE', 'score': 0.729343056678772},\n",
       "  {'label': 'POSITIVE', 'score': 0.9515891075134277},\n",
       "  {'label': 'NEGATIVE', 'score': 0.9896793365478516},\n",
       "  {'label': 'NEGATIVE', 'score': 0.8962414860725403},\n",
       "  {'label': 'NEGATIVE', 'score': 0.9994315505027771},\n",
       "  {'label': 'NEGATIVE', 'score': 0.9880996346473694},\n",
       "  {'label': 'NEGATIVE', 'score': 0.9915708303451538},\n",
       "  {'label': 'NEGATIVE', 'score': 0.9776006937026978},\n",
       "  {'label': 'NEGATIVE', 'score': 0.9968737363815308},\n",
       "  {'label': 'POSITIVE', 'score': 0.9969659447669983}],\n",
       " 'BTC': [{'label': 'POSITIVE', 'score': 0.994099497795105},\n",
       "  {'label': 'POSITIVE', 'score': 0.9606256484985352},\n",
       "  {'label': 'POSITIVE', 'score': 0.9810195565223694},\n",
       "  {'label': 'NEGATIVE', 'score': 0.9996230602264404},\n",
       "  {'label': 'NEGATIVE', 'score': 0.9403278231620789},\n",
       "  {'label': 'NEGATIVE', 'score': 0.9920476078987122},\n",
       "  {'label': 'NEGATIVE', 'score': 0.9880996346473694},\n",
       "  {'label': 'NEGATIVE', 'score': 0.998678982257843},\n",
       "  {'label': 'POSITIVE', 'score': 0.9979088306427002},\n",
       "  {'label': 'NEGATIVE', 'score': 0.9977009892463684},\n",
       "  {'label': 'NEGATIVE', 'score': 0.9968666434288025}]}"
      ]
     },
     "execution_count": 70,
     "metadata": {},
     "output_type": "execute_result"
    }
   ],
   "source": [
    "scores={ticker:sentiment(summaries[ticker]) for ticker in monitored_tickers}\n",
    "scores"
   ]
  },
  {
   "cell_type": "code",
   "execution_count": 71,
   "id": "2c805a54-b24b-4748-a5fb-562b2d70e71d",
   "metadata": {
    "tags": []
   },
   "outputs": [
    {
     "name": "stdout",
     "output_type": "stream",
     "text": [
      "Best Credit Cards for You Best Rewards Credit Cards Best 0% APR Credit Cards Best Balance Transfer Credit Cards POSITIVE 0.998146653175354\n"
     ]
    }
   ],
   "source": [
    "print(summaries[\"GME\"][3],scores[\"GME\"][3][\"label\"],scores[\"GME\"][3][\"score\"])"
   ]
  },
  {
   "cell_type": "code",
   "execution_count": 72,
   "id": "e47d9b92-9cdb-49d8-b52f-db2b9d25a71f",
   "metadata": {
    "tags": []
   },
   "outputs": [
    {
     "data": {
      "text/plain": [
       "0.994099497795105"
      ]
     },
     "execution_count": 72,
     "metadata": {},
     "output_type": "execute_result"
    }
   ],
   "source": [
    "scores[\"BTC\"][0][\"score\"]"
   ]
  },
  {
   "cell_type": "markdown",
   "id": "225d99a0-e494-4b7d-b804-b4210774c313",
   "metadata": {},
   "source": [
    "# 6.Exporting Results to CSV"
   ]
  },
  {
   "cell_type": "code",
   "execution_count": 74,
   "id": "8abc2260-8704-4195-bb57-245c90e71aee",
   "metadata": {
    "tags": []
   },
   "outputs": [
    {
     "data": {
      "text/plain": [
       "{'GME': ['Have you tried going to Newsround?',\n",
       "  'Cohen elected as executive chairman of the company in June. Activist investor previously founded and was CEO Chewy',\n",
       "  'A judge upholds minimum wage for New York City delivery workers. Tesla sued for racial harassment, but won’t comment',\n",
       "  'Best Credit Cards for You Best Rewards Credit Cards Best 0% APR Credit Cards Best Balance Transfer Credit Cards',\n",
       "  'Chewy founder to serve as CEO, but won’t be compensated. Video game retailer has had a string of CEO changes since 2021',\n",
       "  'Jabil, Peloton, Workday, Micron slip on mixed results.',\n",
       "  'All images are copyrighted.',\n",
       "  'Mangalore is set to get a new airport.',\n",
       "  'Ryan Cohen to take over as CEO, chairman of the video game retailer.',\n",
       "  '.',\n",
       "  'Ryan Cohen appointed as CEO and Chairman of the company.'],\n",
       " 'TSLA': ['Best Credit Cards for You Best Rewards Credit Cards Best 0% APR Credit Cards Best Balance Transfer Credit Cards',\n",
       "  'Candidates can apply for jobs at Tesla, Tesla AI, or any other company.',\n",
       "  'Tesla currently priced at $250.16 has provided a return of +103.35% in this calendar year.',\n",
       "  'Tesla may miss targets for third-quarter deliveries. AMD’s stock is set to continue its ascent on Friday',\n",
       "  'ChatGPT suggests that Tesla’s Cybertruck could have a positive impact on stock price.',\n",
       "  'Rough Rough cut (no reporter narration)',\n",
       "  'All images are copyrighted.',\n",
       "  'Have you tried going to Newsround?',\n",
       "  'All photographs are copyrighted.',\n",
       "  'Earnings per share could fall to $0.71 in third quarter, bank says.',\n",
       "  'Chinese EV maker BYD recently reported better-than-expected results. State of the Chinese economy will be another key variable in the equation'],\n",
       " 'BTC': ['Yield-bearing Bitcoin Minetrix to be biggest winner after raising $200,000.',\n",
       "  'CoinDesk DeFi Index leads crypto rally with 5.5% gain. LDO, ARB, AAVE, MKR among top gainers',\n",
       "  'The U.S. dollar index reached a 10-month high on Thursday. Ether also made up some ground after hitting a seven-day high on Wednesday',\n",
       "  'Bitcoin-Ether implied volatility spread has been negative for 20 days',\n",
       "  'Largest crypto by market capitalization is up 3.2% in September. Ethereum to go live next week as futures-based ETF planned',\n",
       "  'ordinary shares and warrants will begin trading on Nasdaq under the ticker symbols \"BTCT\" and \"BTCTW\".',\n",
       "  'All images are copyrighted.',\n",
       "  'Revenues were lower due to weakness in cryptocurrency markets. Average dollar value of BTC mined in 2023 was $23,740.44',\n",
       "  'We are aware of the issue and are working to resolve it.',\n",
       "  'New crypto presale offers no-fuss, no-rigs, low-cost stake-to-mine token.',\n",
       "  'Regulator delays decision on ARK 21Shares Bitcoin ETF application.']}"
      ]
     },
     "execution_count": 74,
     "metadata": {},
     "output_type": "execute_result"
    }
   ],
   "source": [
    "summaries"
   ]
  },
  {
   "cell_type": "code",
   "execution_count": 75,
   "id": "6238156a-f855-429a-8b00-88b2f08ed269",
   "metadata": {
    "tags": []
   },
   "outputs": [
    {
     "data": {
      "text/plain": [
       "{'GME': [{'label': 'NEGATIVE', 'score': 0.9915708303451538},\n",
       "  {'label': 'POSITIVE', 'score': 0.9967880249023438},\n",
       "  {'label': 'NEGATIVE', 'score': 0.6145312190055847},\n",
       "  {'label': 'POSITIVE', 'score': 0.998146653175354},\n",
       "  {'label': 'NEGATIVE', 'score': 0.6854579448699951},\n",
       "  {'label': 'NEGATIVE', 'score': 0.9995985627174377},\n",
       "  {'label': 'NEGATIVE', 'score': 0.9880996346473694},\n",
       "  {'label': 'NEGATIVE', 'score': 0.9141563177108765},\n",
       "  {'label': 'POSITIVE', 'score': 0.996704638004303},\n",
       "  {'label': 'POSITIVE', 'score': 0.9668781757354736},\n",
       "  {'label': 'POSITIVE', 'score': 0.9984606504440308}],\n",
       " 'TSLA': [{'label': 'POSITIVE', 'score': 0.998146653175354},\n",
       "  {'label': 'NEGATIVE', 'score': 0.729343056678772},\n",
       "  {'label': 'POSITIVE', 'score': 0.9515891075134277},\n",
       "  {'label': 'NEGATIVE', 'score': 0.9896793365478516},\n",
       "  {'label': 'NEGATIVE', 'score': 0.8962414860725403},\n",
       "  {'label': 'NEGATIVE', 'score': 0.9994315505027771},\n",
       "  {'label': 'NEGATIVE', 'score': 0.9880996346473694},\n",
       "  {'label': 'NEGATIVE', 'score': 0.9915708303451538},\n",
       "  {'label': 'NEGATIVE', 'score': 0.9776006937026978},\n",
       "  {'label': 'NEGATIVE', 'score': 0.9968737363815308},\n",
       "  {'label': 'POSITIVE', 'score': 0.9969659447669983}],\n",
       " 'BTC': [{'label': 'POSITIVE', 'score': 0.994099497795105},\n",
       "  {'label': 'POSITIVE', 'score': 0.9606256484985352},\n",
       "  {'label': 'POSITIVE', 'score': 0.9810195565223694},\n",
       "  {'label': 'NEGATIVE', 'score': 0.9996230602264404},\n",
       "  {'label': 'NEGATIVE', 'score': 0.9403278231620789},\n",
       "  {'label': 'NEGATIVE', 'score': 0.9920476078987122},\n",
       "  {'label': 'NEGATIVE', 'score': 0.9880996346473694},\n",
       "  {'label': 'NEGATIVE', 'score': 0.998678982257843},\n",
       "  {'label': 'POSITIVE', 'score': 0.9979088306427002},\n",
       "  {'label': 'NEGATIVE', 'score': 0.9977009892463684},\n",
       "  {'label': 'NEGATIVE', 'score': 0.9968666434288025}]}"
      ]
     },
     "execution_count": 75,
     "metadata": {},
     "output_type": "execute_result"
    }
   ],
   "source": [
    "scores"
   ]
  },
  {
   "cell_type": "code",
   "execution_count": 76,
   "id": "2073c24d-03b8-4c98-addd-524048f19be0",
   "metadata": {
    "tags": []
   },
   "outputs": [
    {
     "data": {
      "text/plain": [
       "{'GME': ['https://www.barrons.com/articles/gamestop-stock-price-ryan-cohen-aa31dd8b',\n",
       "  'https://www.marketwatch.com/story/gamestop-stock-soars-after-ryan-cohen-named-ceo-b37f71be',\n",
       "  'https://qz.com/emails/daily-brief/1850885687/memeing-to-the-top',\n",
       "  'https://www.cnbc.com/2023/09/28/gamestop-names-ryan-cohen-as-ceo-effective-immediately.html',\n",
       "  'https://www.forbes.com/sites/maryroeloffs/2023/09/28/billionaire-chair-ryan-cohen-named-gamestop-ceo-years-after-meme-stock-surge/',\n",
       "  'https://seekingalpha.com/news/4016093-biggest-stock-movers-today-peloton-micron-technology-and-more',\n",
       "  'https://www.google.com/search?q%3Dyahoo%2Bfinance%2BGME%26sca_esv%3D569660528%26tbm%3Dnws%26pccc%3D1',\n",
       "  'https://www.daijiworld.com/news/newsDisplay%3FnewsID%3D1125375',\n",
       "  'https://www.moneycontrol.com/news/trends/gamestop-ceo-ryan-cohen-will-get-zero-salary-his-email-to-staff-11449581.html',\n",
       "  'https://www.thestreet.com/memestocks/gme/gamestop-stock-danger-ahead-for-short-sellers',\n",
       "  'https://www.news18.com/viral/american-gaming-company-appoints-new-ceo-but-wont-pay-him-any-salary-8597177.html'],\n",
       " 'TSLA': ['https://www.cnbc.com/2023/09/29/stocks-making-the-biggest-moves-midday-tsla-nke-ccl-nvda.html',\n",
       "  'https://www.latestly.com/socially/technology/x-recruitment-feature-elon-musk-shares-early-stage-of-new-job-recruiment-platform-5450623.html',\n",
       "  'https://www.livemint.com/market/live-blog/tesla-stock-price-live-updates-check-all-the-latest-updates-and-share-price-for-tesla-stock-on-29-sep-2023-11695993420506.html',\n",
       "  'https://uk.finance.yahoo.com/news/tesla-amd-jd-sport-severn-trent-trending-tickers-121718397.html',\n",
       "  'https://finbold.com/chatgpt-predicts-tesla-stock-price-after-cybertruck-launch/',\n",
       "  'https://www.wsj.com/finance/stocks/how-much-is-tesla-worth-you-decide-78b25ab1',\n",
       "  'https://www.google.com/search?q%3Dyahoo%2Bfinance%2BTSLA%26sca_esv%3D569660528%26tbm%3Dnws%26pccc%3D1',\n",
       "  'https://www.barrons.com/articles/tesla-stock-price-deliveries-d066a8a3',\n",
       "  'https://www.investors.com/market-trend/stock-market-today/dow-jones-rises-as-inflation-steps-closer-to-fed-target-tesla-rises-ahead-of-deliveries/',\n",
       "  'https://markets.businessinsider.com/news/stocks/tesla-stock-price-target-deutsche-bank-deliveries-production-outlook-ev-2023-9',\n",
       "  'https://www.fool.com/investing/2023/09/29/1-ev-stock-to-buy-hand-over-fist-right-now-hint-it/'],\n",
       " 'BTC': ['https://finance.yahoo.com/news/bitcoin-price-climbs-3-us-164800533.html',\n",
       "  'https://finance.yahoo.com/news/bitcoin-tops-27k-rates-oil-191951661.html',\n",
       "  'https://finance.yahoo.com/news/bitcoin-ether-edge-wall-street-021354224.html',\n",
       "  'https://finance.yahoo.com/news/bitcoins-implied-volatility-gauge-tops-081331922.html',\n",
       "  'https://finance.yahoo.com/news/bitcoin-slips-below-27k-might-192730902.html',\n",
       "  'https://finance.yahoo.com/news/btc-digital-ltd-change-ticker-123000472.html',\n",
       "  'https://www.google.com/search?q%3Dyahoo%2Bfinance%2BBTC%26sca_esv%3D569660528%26tbm%3Dnws%26pccc%3D1',\n",
       "  'https://finance.yahoo.com/news/integrated-ventures-reports-3-862-140000828.html',\n",
       "  'https://finance.yahoo.com/video/bitcoin-nio-rite-aid-top-172706782.html',\n",
       "  'https://finance.yahoo.com/news/bitcoin-price-struggles-near-26-180400615.html',\n",
       "  'https://uk.finance.yahoo.com/news/bitcoin-price-spot-bitcoin-etf-blackrock-fideility-ark-invest-100608842.html']}"
      ]
     },
     "execution_count": 76,
     "metadata": {},
     "output_type": "execute_result"
    }
   ],
   "source": [
    "cleaned_urls"
   ]
  },
  {
   "cell_type": "code",
   "execution_count": 78,
   "id": "2c5c2ee9-8a37-4627-8db6-6832978c7d2b",
   "metadata": {
    "tags": []
   },
   "outputs": [
    {
     "data": {
      "text/plain": [
       "range(0, 11)"
      ]
     },
     "execution_count": 78,
     "metadata": {},
     "output_type": "execute_result"
    }
   ],
   "source": [
    "range(len(summaries['GME']))"
   ]
  },
  {
   "cell_type": "code",
   "execution_count": 96,
   "id": "047e1e93-5adb-486e-98de-5b78e61fa6b0",
   "metadata": {
    "tags": []
   },
   "outputs": [
    {
     "data": {
      "text/plain": [
       "'Ryan Cohen appointed as CEO and Chairman of the company.'"
      ]
     },
     "execution_count": 96,
     "metadata": {},
     "output_type": "execute_result"
    }
   ],
   "source": [
    "summaries['GME'][10]"
   ]
  },
  {
   "cell_type": "code",
   "execution_count": 99,
   "id": "0db5cdda-65b9-468e-8a3a-e92d4821d57b",
   "metadata": {
    "tags": []
   },
   "outputs": [],
   "source": [
    "def create_output_array(summaries,scores,urls):\n",
    "    output=[]\n",
    "    for ticker in monitored_tickers:\n",
    "        for counter in range(len(summaries[ticker])):\n",
    "            output_this=[\n",
    "                ticker,\n",
    "                summaries[ticker][counter],\n",
    "                scores[ticker][counter][\"label\"],\n",
    "                scores[ticker][counter][\"score\"],\n",
    "                urls[ticker][counter]\n",
    "            ]\n",
    "            output.append(output_this)\n",
    "    return output"
   ]
  },
  {
   "cell_type": "code",
   "execution_count": 100,
   "id": "55ce34d2-1c9a-4b30-a18d-159b389e5cee",
   "metadata": {
    "tags": []
   },
   "outputs": [
    {
     "data": {
      "text/plain": [
       "[['GME',\n",
       "  'Have you tried going to Newsround?',\n",
       "  'NEGATIVE',\n",
       "  0.9915708303451538,\n",
       "  'https://www.barrons.com/articles/gamestop-stock-price-ryan-cohen-aa31dd8b'],\n",
       " ['GME',\n",
       "  'Cohen elected as executive chairman of the company in June. Activist investor previously founded and was CEO Chewy',\n",
       "  'POSITIVE',\n",
       "  0.9967880249023438,\n",
       "  'https://www.marketwatch.com/story/gamestop-stock-soars-after-ryan-cohen-named-ceo-b37f71be'],\n",
       " ['GME',\n",
       "  'A judge upholds minimum wage for New York City delivery workers. Tesla sued for racial harassment, but won’t comment',\n",
       "  'NEGATIVE',\n",
       "  0.6145312190055847,\n",
       "  'https://qz.com/emails/daily-brief/1850885687/memeing-to-the-top'],\n",
       " ['GME',\n",
       "  'Best Credit Cards for You Best Rewards Credit Cards Best 0% APR Credit Cards Best Balance Transfer Credit Cards',\n",
       "  'POSITIVE',\n",
       "  0.998146653175354,\n",
       "  'https://www.cnbc.com/2023/09/28/gamestop-names-ryan-cohen-as-ceo-effective-immediately.html'],\n",
       " ['GME',\n",
       "  'Chewy founder to serve as CEO, but won’t be compensated. Video game retailer has had a string of CEO changes since 2021',\n",
       "  'NEGATIVE',\n",
       "  0.6854579448699951,\n",
       "  'https://www.forbes.com/sites/maryroeloffs/2023/09/28/billionaire-chair-ryan-cohen-named-gamestop-ceo-years-after-meme-stock-surge/'],\n",
       " ['GME',\n",
       "  'Jabil, Peloton, Workday, Micron slip on mixed results.',\n",
       "  'NEGATIVE',\n",
       "  0.9995985627174377,\n",
       "  'https://seekingalpha.com/news/4016093-biggest-stock-movers-today-peloton-micron-technology-and-more'],\n",
       " ['GME',\n",
       "  'All images are copyrighted.',\n",
       "  'NEGATIVE',\n",
       "  0.9880996346473694,\n",
       "  'https://www.google.com/search?q%3Dyahoo%2Bfinance%2BGME%26sca_esv%3D569660528%26tbm%3Dnws%26pccc%3D1'],\n",
       " ['GME',\n",
       "  'Mangalore is set to get a new airport.',\n",
       "  'NEGATIVE',\n",
       "  0.9141563177108765,\n",
       "  'https://www.daijiworld.com/news/newsDisplay%3FnewsID%3D1125375'],\n",
       " ['GME',\n",
       "  'Ryan Cohen to take over as CEO, chairman of the video game retailer.',\n",
       "  'POSITIVE',\n",
       "  0.996704638004303,\n",
       "  'https://www.moneycontrol.com/news/trends/gamestop-ceo-ryan-cohen-will-get-zero-salary-his-email-to-staff-11449581.html'],\n",
       " ['GME',\n",
       "  '.',\n",
       "  'POSITIVE',\n",
       "  0.9668781757354736,\n",
       "  'https://www.thestreet.com/memestocks/gme/gamestop-stock-danger-ahead-for-short-sellers'],\n",
       " ['GME',\n",
       "  'Ryan Cohen appointed as CEO and Chairman of the company.',\n",
       "  'POSITIVE',\n",
       "  0.9984606504440308,\n",
       "  'https://www.news18.com/viral/american-gaming-company-appoints-new-ceo-but-wont-pay-him-any-salary-8597177.html'],\n",
       " ['TSLA',\n",
       "  'Best Credit Cards for You Best Rewards Credit Cards Best 0% APR Credit Cards Best Balance Transfer Credit Cards',\n",
       "  'POSITIVE',\n",
       "  0.998146653175354,\n",
       "  'https://www.cnbc.com/2023/09/29/stocks-making-the-biggest-moves-midday-tsla-nke-ccl-nvda.html'],\n",
       " ['TSLA',\n",
       "  'Candidates can apply for jobs at Tesla, Tesla AI, or any other company.',\n",
       "  'NEGATIVE',\n",
       "  0.729343056678772,\n",
       "  'https://www.latestly.com/socially/technology/x-recruitment-feature-elon-musk-shares-early-stage-of-new-job-recruiment-platform-5450623.html'],\n",
       " ['TSLA',\n",
       "  'Tesla currently priced at $250.16 has provided a return of +103.35% in this calendar year.',\n",
       "  'POSITIVE',\n",
       "  0.9515891075134277,\n",
       "  'https://www.livemint.com/market/live-blog/tesla-stock-price-live-updates-check-all-the-latest-updates-and-share-price-for-tesla-stock-on-29-sep-2023-11695993420506.html'],\n",
       " ['TSLA',\n",
       "  'Tesla may miss targets for third-quarter deliveries. AMD’s stock is set to continue its ascent on Friday',\n",
       "  'NEGATIVE',\n",
       "  0.9896793365478516,\n",
       "  'https://uk.finance.yahoo.com/news/tesla-amd-jd-sport-severn-trent-trending-tickers-121718397.html'],\n",
       " ['TSLA',\n",
       "  'ChatGPT suggests that Tesla’s Cybertruck could have a positive impact on stock price.',\n",
       "  'NEGATIVE',\n",
       "  0.8962414860725403,\n",
       "  'https://finbold.com/chatgpt-predicts-tesla-stock-price-after-cybertruck-launch/'],\n",
       " ['TSLA',\n",
       "  'Rough Rough cut (no reporter narration)',\n",
       "  'NEGATIVE',\n",
       "  0.9994315505027771,\n",
       "  'https://www.wsj.com/finance/stocks/how-much-is-tesla-worth-you-decide-78b25ab1'],\n",
       " ['TSLA',\n",
       "  'All images are copyrighted.',\n",
       "  'NEGATIVE',\n",
       "  0.9880996346473694,\n",
       "  'https://www.google.com/search?q%3Dyahoo%2Bfinance%2BTSLA%26sca_esv%3D569660528%26tbm%3Dnws%26pccc%3D1'],\n",
       " ['TSLA',\n",
       "  'Have you tried going to Newsround?',\n",
       "  'NEGATIVE',\n",
       "  0.9915708303451538,\n",
       "  'https://www.barrons.com/articles/tesla-stock-price-deliveries-d066a8a3'],\n",
       " ['TSLA',\n",
       "  'All photographs are copyrighted.',\n",
       "  'NEGATIVE',\n",
       "  0.9776006937026978,\n",
       "  'https://www.investors.com/market-trend/stock-market-today/dow-jones-rises-as-inflation-steps-closer-to-fed-target-tesla-rises-ahead-of-deliveries/'],\n",
       " ['TSLA',\n",
       "  'Earnings per share could fall to $0.71 in third quarter, bank says.',\n",
       "  'NEGATIVE',\n",
       "  0.9968737363815308,\n",
       "  'https://markets.businessinsider.com/news/stocks/tesla-stock-price-target-deutsche-bank-deliveries-production-outlook-ev-2023-9'],\n",
       " ['TSLA',\n",
       "  'Chinese EV maker BYD recently reported better-than-expected results. State of the Chinese economy will be another key variable in the equation',\n",
       "  'POSITIVE',\n",
       "  0.9969659447669983,\n",
       "  'https://www.fool.com/investing/2023/09/29/1-ev-stock-to-buy-hand-over-fist-right-now-hint-it/'],\n",
       " ['BTC',\n",
       "  'Yield-bearing Bitcoin Minetrix to be biggest winner after raising $200,000.',\n",
       "  'POSITIVE',\n",
       "  0.994099497795105,\n",
       "  'https://finance.yahoo.com/news/bitcoin-price-climbs-3-us-164800533.html'],\n",
       " ['BTC',\n",
       "  'CoinDesk DeFi Index leads crypto rally with 5.5% gain. LDO, ARB, AAVE, MKR among top gainers',\n",
       "  'POSITIVE',\n",
       "  0.9606256484985352,\n",
       "  'https://finance.yahoo.com/news/bitcoin-tops-27k-rates-oil-191951661.html'],\n",
       " ['BTC',\n",
       "  'The U.S. dollar index reached a 10-month high on Thursday. Ether also made up some ground after hitting a seven-day high on Wednesday',\n",
       "  'POSITIVE',\n",
       "  0.9810195565223694,\n",
       "  'https://finance.yahoo.com/news/bitcoin-ether-edge-wall-street-021354224.html'],\n",
       " ['BTC',\n",
       "  'Bitcoin-Ether implied volatility spread has been negative for 20 days',\n",
       "  'NEGATIVE',\n",
       "  0.9996230602264404,\n",
       "  'https://finance.yahoo.com/news/bitcoins-implied-volatility-gauge-tops-081331922.html'],\n",
       " ['BTC',\n",
       "  'Largest crypto by market capitalization is up 3.2% in September. Ethereum to go live next week as futures-based ETF planned',\n",
       "  'NEGATIVE',\n",
       "  0.9403278231620789,\n",
       "  'https://finance.yahoo.com/news/bitcoin-slips-below-27k-might-192730902.html'],\n",
       " ['BTC',\n",
       "  'ordinary shares and warrants will begin trading on Nasdaq under the ticker symbols \"BTCT\" and \"BTCTW\".',\n",
       "  'NEGATIVE',\n",
       "  0.9920476078987122,\n",
       "  'https://finance.yahoo.com/news/btc-digital-ltd-change-ticker-123000472.html'],\n",
       " ['BTC',\n",
       "  'All images are copyrighted.',\n",
       "  'NEGATIVE',\n",
       "  0.9880996346473694,\n",
       "  'https://www.google.com/search?q%3Dyahoo%2Bfinance%2BBTC%26sca_esv%3D569660528%26tbm%3Dnws%26pccc%3D1'],\n",
       " ['BTC',\n",
       "  'Revenues were lower due to weakness in cryptocurrency markets. Average dollar value of BTC mined in 2023 was $23,740.44',\n",
       "  'NEGATIVE',\n",
       "  0.998678982257843,\n",
       "  'https://finance.yahoo.com/news/integrated-ventures-reports-3-862-140000828.html'],\n",
       " ['BTC',\n",
       "  'We are aware of the issue and are working to resolve it.',\n",
       "  'POSITIVE',\n",
       "  0.9979088306427002,\n",
       "  'https://finance.yahoo.com/video/bitcoin-nio-rite-aid-top-172706782.html'],\n",
       " ['BTC',\n",
       "  'New crypto presale offers no-fuss, no-rigs, low-cost stake-to-mine token.',\n",
       "  'NEGATIVE',\n",
       "  0.9977009892463684,\n",
       "  'https://finance.yahoo.com/news/bitcoin-price-struggles-near-26-180400615.html'],\n",
       " ['BTC',\n",
       "  'Regulator delays decision on ARK 21Shares Bitcoin ETF application.',\n",
       "  'NEGATIVE',\n",
       "  0.9968666434288025,\n",
       "  'https://uk.finance.yahoo.com/news/bitcoin-price-spot-bitcoin-etf-blackrock-fideility-ark-invest-100608842.html']]"
      ]
     },
     "execution_count": 100,
     "metadata": {},
     "output_type": "execute_result"
    }
   ],
   "source": [
    "final_output=create_output_array(summaries,scores,cleaned_urls)\n",
    "final_output"
   ]
  },
  {
   "cell_type": "code",
   "execution_count": 101,
   "id": "f90fb88f-4341-48da-9efd-8bda13165815",
   "metadata": {
    "tags": []
   },
   "outputs": [],
   "source": [
    "final_output.insert(0,['Ticker','Summary','Label','Confidence','URL'])"
   ]
  },
  {
   "cell_type": "code",
   "execution_count": 102,
   "id": "2dc9acdf-53f2-4704-b9c2-56f776e8c3f0",
   "metadata": {
    "tags": []
   },
   "outputs": [
    {
     "data": {
      "text/plain": [
       "[['Ticker', 'Summary', 'Label', 'Confidence', 'URL'],\n",
       " ['GME',\n",
       "  'Have you tried going to Newsround?',\n",
       "  'NEGATIVE',\n",
       "  0.9915708303451538,\n",
       "  'https://www.barrons.com/articles/gamestop-stock-price-ryan-cohen-aa31dd8b'],\n",
       " ['GME',\n",
       "  'Cohen elected as executive chairman of the company in June. Activist investor previously founded and was CEO Chewy',\n",
       "  'POSITIVE',\n",
       "  0.9967880249023438,\n",
       "  'https://www.marketwatch.com/story/gamestop-stock-soars-after-ryan-cohen-named-ceo-b37f71be'],\n",
       " ['GME',\n",
       "  'A judge upholds minimum wage for New York City delivery workers. Tesla sued for racial harassment, but won’t comment',\n",
       "  'NEGATIVE',\n",
       "  0.6145312190055847,\n",
       "  'https://qz.com/emails/daily-brief/1850885687/memeing-to-the-top'],\n",
       " ['GME',\n",
       "  'Best Credit Cards for You Best Rewards Credit Cards Best 0% APR Credit Cards Best Balance Transfer Credit Cards',\n",
       "  'POSITIVE',\n",
       "  0.998146653175354,\n",
       "  'https://www.cnbc.com/2023/09/28/gamestop-names-ryan-cohen-as-ceo-effective-immediately.html'],\n",
       " ['GME',\n",
       "  'Chewy founder to serve as CEO, but won’t be compensated. Video game retailer has had a string of CEO changes since 2021',\n",
       "  'NEGATIVE',\n",
       "  0.6854579448699951,\n",
       "  'https://www.forbes.com/sites/maryroeloffs/2023/09/28/billionaire-chair-ryan-cohen-named-gamestop-ceo-years-after-meme-stock-surge/'],\n",
       " ['GME',\n",
       "  'Jabil, Peloton, Workday, Micron slip on mixed results.',\n",
       "  'NEGATIVE',\n",
       "  0.9995985627174377,\n",
       "  'https://seekingalpha.com/news/4016093-biggest-stock-movers-today-peloton-micron-technology-and-more'],\n",
       " ['GME',\n",
       "  'All images are copyrighted.',\n",
       "  'NEGATIVE',\n",
       "  0.9880996346473694,\n",
       "  'https://www.google.com/search?q%3Dyahoo%2Bfinance%2BGME%26sca_esv%3D569660528%26tbm%3Dnws%26pccc%3D1'],\n",
       " ['GME',\n",
       "  'Mangalore is set to get a new airport.',\n",
       "  'NEGATIVE',\n",
       "  0.9141563177108765,\n",
       "  'https://www.daijiworld.com/news/newsDisplay%3FnewsID%3D1125375'],\n",
       " ['GME',\n",
       "  'Ryan Cohen to take over as CEO, chairman of the video game retailer.',\n",
       "  'POSITIVE',\n",
       "  0.996704638004303,\n",
       "  'https://www.moneycontrol.com/news/trends/gamestop-ceo-ryan-cohen-will-get-zero-salary-his-email-to-staff-11449581.html'],\n",
       " ['GME',\n",
       "  '.',\n",
       "  'POSITIVE',\n",
       "  0.9668781757354736,\n",
       "  'https://www.thestreet.com/memestocks/gme/gamestop-stock-danger-ahead-for-short-sellers'],\n",
       " ['GME',\n",
       "  'Ryan Cohen appointed as CEO and Chairman of the company.',\n",
       "  'POSITIVE',\n",
       "  0.9984606504440308,\n",
       "  'https://www.news18.com/viral/american-gaming-company-appoints-new-ceo-but-wont-pay-him-any-salary-8597177.html'],\n",
       " ['TSLA',\n",
       "  'Best Credit Cards for You Best Rewards Credit Cards Best 0% APR Credit Cards Best Balance Transfer Credit Cards',\n",
       "  'POSITIVE',\n",
       "  0.998146653175354,\n",
       "  'https://www.cnbc.com/2023/09/29/stocks-making-the-biggest-moves-midday-tsla-nke-ccl-nvda.html'],\n",
       " ['TSLA',\n",
       "  'Candidates can apply for jobs at Tesla, Tesla AI, or any other company.',\n",
       "  'NEGATIVE',\n",
       "  0.729343056678772,\n",
       "  'https://www.latestly.com/socially/technology/x-recruitment-feature-elon-musk-shares-early-stage-of-new-job-recruiment-platform-5450623.html'],\n",
       " ['TSLA',\n",
       "  'Tesla currently priced at $250.16 has provided a return of +103.35% in this calendar year.',\n",
       "  'POSITIVE',\n",
       "  0.9515891075134277,\n",
       "  'https://www.livemint.com/market/live-blog/tesla-stock-price-live-updates-check-all-the-latest-updates-and-share-price-for-tesla-stock-on-29-sep-2023-11695993420506.html'],\n",
       " ['TSLA',\n",
       "  'Tesla may miss targets for third-quarter deliveries. AMD’s stock is set to continue its ascent on Friday',\n",
       "  'NEGATIVE',\n",
       "  0.9896793365478516,\n",
       "  'https://uk.finance.yahoo.com/news/tesla-amd-jd-sport-severn-trent-trending-tickers-121718397.html'],\n",
       " ['TSLA',\n",
       "  'ChatGPT suggests that Tesla’s Cybertruck could have a positive impact on stock price.',\n",
       "  'NEGATIVE',\n",
       "  0.8962414860725403,\n",
       "  'https://finbold.com/chatgpt-predicts-tesla-stock-price-after-cybertruck-launch/'],\n",
       " ['TSLA',\n",
       "  'Rough Rough cut (no reporter narration)',\n",
       "  'NEGATIVE',\n",
       "  0.9994315505027771,\n",
       "  'https://www.wsj.com/finance/stocks/how-much-is-tesla-worth-you-decide-78b25ab1'],\n",
       " ['TSLA',\n",
       "  'All images are copyrighted.',\n",
       "  'NEGATIVE',\n",
       "  0.9880996346473694,\n",
       "  'https://www.google.com/search?q%3Dyahoo%2Bfinance%2BTSLA%26sca_esv%3D569660528%26tbm%3Dnws%26pccc%3D1'],\n",
       " ['TSLA',\n",
       "  'Have you tried going to Newsround?',\n",
       "  'NEGATIVE',\n",
       "  0.9915708303451538,\n",
       "  'https://www.barrons.com/articles/tesla-stock-price-deliveries-d066a8a3'],\n",
       " ['TSLA',\n",
       "  'All photographs are copyrighted.',\n",
       "  'NEGATIVE',\n",
       "  0.9776006937026978,\n",
       "  'https://www.investors.com/market-trend/stock-market-today/dow-jones-rises-as-inflation-steps-closer-to-fed-target-tesla-rises-ahead-of-deliveries/'],\n",
       " ['TSLA',\n",
       "  'Earnings per share could fall to $0.71 in third quarter, bank says.',\n",
       "  'NEGATIVE',\n",
       "  0.9968737363815308,\n",
       "  'https://markets.businessinsider.com/news/stocks/tesla-stock-price-target-deutsche-bank-deliveries-production-outlook-ev-2023-9'],\n",
       " ['TSLA',\n",
       "  'Chinese EV maker BYD recently reported better-than-expected results. State of the Chinese economy will be another key variable in the equation',\n",
       "  'POSITIVE',\n",
       "  0.9969659447669983,\n",
       "  'https://www.fool.com/investing/2023/09/29/1-ev-stock-to-buy-hand-over-fist-right-now-hint-it/'],\n",
       " ['BTC',\n",
       "  'Yield-bearing Bitcoin Minetrix to be biggest winner after raising $200,000.',\n",
       "  'POSITIVE',\n",
       "  0.994099497795105,\n",
       "  'https://finance.yahoo.com/news/bitcoin-price-climbs-3-us-164800533.html'],\n",
       " ['BTC',\n",
       "  'CoinDesk DeFi Index leads crypto rally with 5.5% gain. LDO, ARB, AAVE, MKR among top gainers',\n",
       "  'POSITIVE',\n",
       "  0.9606256484985352,\n",
       "  'https://finance.yahoo.com/news/bitcoin-tops-27k-rates-oil-191951661.html'],\n",
       " ['BTC',\n",
       "  'The U.S. dollar index reached a 10-month high on Thursday. Ether also made up some ground after hitting a seven-day high on Wednesday',\n",
       "  'POSITIVE',\n",
       "  0.9810195565223694,\n",
       "  'https://finance.yahoo.com/news/bitcoin-ether-edge-wall-street-021354224.html'],\n",
       " ['BTC',\n",
       "  'Bitcoin-Ether implied volatility spread has been negative for 20 days',\n",
       "  'NEGATIVE',\n",
       "  0.9996230602264404,\n",
       "  'https://finance.yahoo.com/news/bitcoins-implied-volatility-gauge-tops-081331922.html'],\n",
       " ['BTC',\n",
       "  'Largest crypto by market capitalization is up 3.2% in September. Ethereum to go live next week as futures-based ETF planned',\n",
       "  'NEGATIVE',\n",
       "  0.9403278231620789,\n",
       "  'https://finance.yahoo.com/news/bitcoin-slips-below-27k-might-192730902.html'],\n",
       " ['BTC',\n",
       "  'ordinary shares and warrants will begin trading on Nasdaq under the ticker symbols \"BTCT\" and \"BTCTW\".',\n",
       "  'NEGATIVE',\n",
       "  0.9920476078987122,\n",
       "  'https://finance.yahoo.com/news/btc-digital-ltd-change-ticker-123000472.html'],\n",
       " ['BTC',\n",
       "  'All images are copyrighted.',\n",
       "  'NEGATIVE',\n",
       "  0.9880996346473694,\n",
       "  'https://www.google.com/search?q%3Dyahoo%2Bfinance%2BBTC%26sca_esv%3D569660528%26tbm%3Dnws%26pccc%3D1'],\n",
       " ['BTC',\n",
       "  'Revenues were lower due to weakness in cryptocurrency markets. Average dollar value of BTC mined in 2023 was $23,740.44',\n",
       "  'NEGATIVE',\n",
       "  0.998678982257843,\n",
       "  'https://finance.yahoo.com/news/integrated-ventures-reports-3-862-140000828.html'],\n",
       " ['BTC',\n",
       "  'We are aware of the issue and are working to resolve it.',\n",
       "  'POSITIVE',\n",
       "  0.9979088306427002,\n",
       "  'https://finance.yahoo.com/video/bitcoin-nio-rite-aid-top-172706782.html'],\n",
       " ['BTC',\n",
       "  'New crypto presale offers no-fuss, no-rigs, low-cost stake-to-mine token.',\n",
       "  'NEGATIVE',\n",
       "  0.9977009892463684,\n",
       "  'https://finance.yahoo.com/news/bitcoin-price-struggles-near-26-180400615.html'],\n",
       " ['BTC',\n",
       "  'Regulator delays decision on ARK 21Shares Bitcoin ETF application.',\n",
       "  'NEGATIVE',\n",
       "  0.9968666434288025,\n",
       "  'https://uk.finance.yahoo.com/news/bitcoin-price-spot-bitcoin-etf-blackrock-fideility-ark-invest-100608842.html']]"
      ]
     },
     "execution_count": 102,
     "metadata": {},
     "output_type": "execute_result"
    }
   ],
   "source": [
    "final_output"
   ]
  },
  {
   "cell_type": "code",
   "execution_count": 104,
   "id": "73da9985-153f-4aaf-b2c7-8bad7e578c11",
   "metadata": {
    "tags": []
   },
   "outputs": [],
   "source": [
    "import csv\n",
    "with open('assetsummaries.csv','w',newline='') as f:\n",
    "    csv_writer=csv.writer(f,delimiter=',',quotechar='\"',quoting=csv.QUOTE_MINIMAL)\n",
    "    csv_writer.writerows(final_output)"
   ]
  },
  {
   "cell_type": "code",
   "execution_count": null,
   "id": "403a6fcd-2f6c-4ae2-a9c5-7f4f328c5580",
   "metadata": {},
   "outputs": [],
   "source": []
  }
 ],
 "metadata": {
  "kernelspec": {
   "display_name": "Python 3 (ipykernel)",
   "language": "python",
   "name": "python3"
  },
  "language_info": {
   "codemirror_mode": {
    "name": "ipython",
    "version": 3
   },
   "file_extension": ".py",
   "mimetype": "text/x-python",
   "name": "python",
   "nbconvert_exporter": "python",
   "pygments_lexer": "ipython3",
   "version": "3.10.9"
  }
 },
 "nbformat": 4,
 "nbformat_minor": 5
}
